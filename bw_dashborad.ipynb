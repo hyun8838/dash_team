{
 "cells": [
  {
   "cell_type": "code",
   "execution_count": 80,
   "id": "78f64685",
   "metadata": {},
   "outputs": [
    {
     "name": "stdout",
     "output_type": "stream",
     "text": [
      "Defaulting to user installation because normal site-packages is not writeable\n",
      "Requirement already satisfied: nbformat in /Users/yang/Library/Python/3.9/lib/python/site-packages (5.10.4)\n",
      "Requirement already satisfied: jsonschema>=2.6 in /Users/yang/Library/Python/3.9/lib/python/site-packages (from nbformat) (4.22.0)\n",
      "Requirement already satisfied: traitlets>=5.1 in /Users/yang/Library/Python/3.9/lib/python/site-packages (from nbformat) (5.14.3)\n",
      "Requirement already satisfied: jupyter-core!=5.0.*,>=4.12 in /Users/yang/Library/Python/3.9/lib/python/site-packages (from nbformat) (5.7.2)\n",
      "Requirement already satisfied: fastjsonschema>=2.15 in /Users/yang/Library/Python/3.9/lib/python/site-packages (from nbformat) (2.19.1)\n",
      "Requirement already satisfied: jsonschema-specifications>=2023.03.6 in /Users/yang/Library/Python/3.9/lib/python/site-packages (from jsonschema>=2.6->nbformat) (2023.12.1)\n",
      "Requirement already satisfied: referencing>=0.28.4 in /Users/yang/Library/Python/3.9/lib/python/site-packages (from jsonschema>=2.6->nbformat) (0.35.1)\n",
      "Requirement already satisfied: attrs>=22.2.0 in /Users/yang/Library/Python/3.9/lib/python/site-packages (from jsonschema>=2.6->nbformat) (23.2.0)\n",
      "Requirement already satisfied: rpds-py>=0.7.1 in /Users/yang/Library/Python/3.9/lib/python/site-packages (from jsonschema>=2.6->nbformat) (0.18.1)\n",
      "Requirement already satisfied: platformdirs>=2.5 in /Users/yang/Library/Python/3.9/lib/python/site-packages (from jupyter-core!=5.0.*,>=4.12->nbformat) (4.2.2)\n",
      "\u001b[33mWARNING: You are using pip version 21.2.4; however, version 24.0 is available.\n",
      "You should consider upgrading via the '/Library/Developer/CommandLineTools/usr/bin/python3 -m pip install --upgrade pip' command.\u001b[0m\n",
      "Note: you may need to restart the kernel to use updated packages.\n"
     ]
    }
   ],
   "source": [
    "pip install --upgrade nbformat"
   ]
  },
  {
   "cell_type": "code",
   "execution_count": 81,
   "id": "373f7516",
   "metadata": {
    "scrolled": true
   },
   "outputs": [
    {
     "name": "stdout",
     "output_type": "stream",
     "text": [
      "Requirement already satisfied: dash in /Users/yang/anaconda3/lib/python3.11/site-packages (2.16.1)\n",
      "Requirement already satisfied: dash_table in /Users/yang/anaconda3/lib/python3.11/site-packages (5.0.0)\n",
      "Requirement already satisfied: Flask<3.1,>=1.0.4 in /Users/yang/anaconda3/lib/python3.11/site-packages (from dash) (2.2.2)\n",
      "Requirement already satisfied: Werkzeug<3.1 in /Users/yang/anaconda3/lib/python3.11/site-packages (from dash) (2.2.3)\n",
      "Requirement already satisfied: plotly>=5.0.0 in /Users/yang/anaconda3/lib/python3.11/site-packages (from dash) (5.9.0)\n",
      "Requirement already satisfied: dash-html-components==2.0.0 in /Users/yang/anaconda3/lib/python3.11/site-packages (from dash) (2.0.0)\n",
      "Requirement already satisfied: dash-core-components==2.0.0 in /Users/yang/anaconda3/lib/python3.11/site-packages (from dash) (2.0.0)\n",
      "Requirement already satisfied: importlib-metadata in /Users/yang/anaconda3/lib/python3.11/site-packages (from dash) (6.0.0)\n",
      "Requirement already satisfied: typing-extensions>=4.1.1 in /Users/yang/anaconda3/lib/python3.11/site-packages (from dash) (4.7.1)\n",
      "Requirement already satisfied: requests in /Users/yang/anaconda3/lib/python3.11/site-packages (from dash) (2.31.0)\n",
      "Requirement already satisfied: retrying in /Users/yang/anaconda3/lib/python3.11/site-packages (from dash) (1.3.4)\n",
      "Requirement already satisfied: nest-asyncio in /Users/yang/anaconda3/lib/python3.11/site-packages (from dash) (1.5.6)\n",
      "Requirement already satisfied: setuptools in /Users/yang/anaconda3/lib/python3.11/site-packages (from dash) (68.0.0)\n",
      "Requirement already satisfied: Jinja2>=3.0 in /Users/yang/anaconda3/lib/python3.11/site-packages (from Flask<3.1,>=1.0.4->dash) (3.1.2)\n",
      "Requirement already satisfied: itsdangerous>=2.0 in /Users/yang/anaconda3/lib/python3.11/site-packages (from Flask<3.1,>=1.0.4->dash) (2.0.1)\n",
      "Requirement already satisfied: click>=8.0 in /Users/yang/anaconda3/lib/python3.11/site-packages (from Flask<3.1,>=1.0.4->dash) (8.0.4)\n",
      "Requirement already satisfied: tenacity>=6.2.0 in /Users/yang/anaconda3/lib/python3.11/site-packages (from plotly>=5.0.0->dash) (8.2.2)\n",
      "Requirement already satisfied: MarkupSafe>=2.1.1 in /Users/yang/anaconda3/lib/python3.11/site-packages (from Werkzeug<3.1->dash) (2.1.1)\n",
      "Requirement already satisfied: zipp>=0.5 in /Users/yang/anaconda3/lib/python3.11/site-packages (from importlib-metadata->dash) (3.11.0)\n",
      "Requirement already satisfied: charset-normalizer<4,>=2 in /Users/yang/anaconda3/lib/python3.11/site-packages (from requests->dash) (2.0.4)\n",
      "Requirement already satisfied: idna<4,>=2.5 in /Users/yang/anaconda3/lib/python3.11/site-packages (from requests->dash) (3.4)\n",
      "Requirement already satisfied: urllib3<3,>=1.21.1 in /Users/yang/anaconda3/lib/python3.11/site-packages (from requests->dash) (1.26.16)\n",
      "Requirement already satisfied: certifi>=2017.4.17 in /Users/yang/anaconda3/lib/python3.11/site-packages (from requests->dash) (2023.7.22)\n",
      "Requirement already satisfied: six>=1.7.0 in /Users/yang/anaconda3/lib/python3.11/site-packages (from retrying->dash) (1.16.0)\n"
     ]
    }
   ],
   "source": [
    "!pip install dash dash_table"
   ]
  },
  {
   "cell_type": "code",
   "execution_count": 82,
   "id": "c6c11c39",
   "metadata": {
    "scrolled": true
   },
   "outputs": [
    {
     "name": "stdout",
     "output_type": "stream",
     "text": [
      "Requirement already satisfied: wordcloud in /Users/yang/anaconda3/lib/python3.11/site-packages (1.9.3)\n",
      "Requirement already satisfied: numpy>=1.6.1 in /Users/yang/anaconda3/lib/python3.11/site-packages (from wordcloud) (1.24.3)\n",
      "Requirement already satisfied: pillow in /Users/yang/anaconda3/lib/python3.11/site-packages (from wordcloud) (9.4.0)\n",
      "Requirement already satisfied: matplotlib in /Users/yang/anaconda3/lib/python3.11/site-packages (from wordcloud) (3.7.1)\n",
      "Requirement already satisfied: contourpy>=1.0.1 in /Users/yang/anaconda3/lib/python3.11/site-packages (from matplotlib->wordcloud) (1.0.5)\n",
      "Requirement already satisfied: cycler>=0.10 in /Users/yang/anaconda3/lib/python3.11/site-packages (from matplotlib->wordcloud) (0.11.0)\n",
      "Requirement already satisfied: fonttools>=4.22.0 in /Users/yang/anaconda3/lib/python3.11/site-packages (from matplotlib->wordcloud) (4.25.0)\n",
      "Requirement already satisfied: kiwisolver>=1.0.1 in /Users/yang/anaconda3/lib/python3.11/site-packages (from matplotlib->wordcloud) (1.4.4)\n",
      "Requirement already satisfied: packaging>=20.0 in /Users/yang/anaconda3/lib/python3.11/site-packages (from matplotlib->wordcloud) (23.0)\n",
      "Requirement already satisfied: pyparsing>=2.3.1 in /Users/yang/anaconda3/lib/python3.11/site-packages (from matplotlib->wordcloud) (3.0.9)\n",
      "Requirement already satisfied: python-dateutil>=2.7 in /Users/yang/anaconda3/lib/python3.11/site-packages (from matplotlib->wordcloud) (2.8.2)\n",
      "Requirement already satisfied: six>=1.5 in /Users/yang/anaconda3/lib/python3.11/site-packages (from python-dateutil>=2.7->matplotlib->wordcloud) (1.16.0)\n"
     ]
    }
   ],
   "source": [
    "!pip install wordcloud"
   ]
  },
  {
   "cell_type": "code",
   "execution_count": 83,
   "id": "cb67941f",
   "metadata": {
    "scrolled": true
   },
   "outputs": [
    {
     "name": "stdout",
     "output_type": "stream",
     "text": [
      "Defaulting to user installation because normal site-packages is not writeable\n",
      "Requirement already satisfied: dash-bootstrap-components in /Users/yang/Library/Python/3.9/lib/python/site-packages (1.6.0)\n",
      "Requirement already satisfied: dash>=2.0.0 in /Users/yang/Library/Python/3.9/lib/python/site-packages (from dash-bootstrap-components) (2.17.0)\n",
      "Requirement already satisfied: dash-core-components==2.0.0 in /Users/yang/Library/Python/3.9/lib/python/site-packages (from dash>=2.0.0->dash-bootstrap-components) (2.0.0)\n",
      "Requirement already satisfied: retrying in /Users/yang/Library/Python/3.9/lib/python/site-packages (from dash>=2.0.0->dash-bootstrap-components) (1.3.4)\n",
      "Requirement already satisfied: importlib-metadata in /Users/yang/Library/Python/3.9/lib/python/site-packages (from dash>=2.0.0->dash-bootstrap-components) (7.1.0)\n",
      "Requirement already satisfied: typing-extensions>=4.1.1 in /Users/yang/Library/Python/3.9/lib/python/site-packages (from dash>=2.0.0->dash-bootstrap-components) (4.12.1)\n",
      "Requirement already satisfied: setuptools in /Library/Developer/CommandLineTools/Library/Frameworks/Python3.framework/Versions/3.9/lib/python3.9/site-packages (from dash>=2.0.0->dash-bootstrap-components) (58.0.4)\n",
      "Requirement already satisfied: nest-asyncio in /Users/yang/Library/Python/3.9/lib/python/site-packages (from dash>=2.0.0->dash-bootstrap-components) (1.6.0)\n",
      "Requirement already satisfied: Werkzeug<3.1 in /Users/yang/Library/Python/3.9/lib/python/site-packages (from dash>=2.0.0->dash-bootstrap-components) (3.0.3)\n",
      "Requirement already satisfied: plotly>=5.0.0 in /Users/yang/Library/Python/3.9/lib/python/site-packages (from dash>=2.0.0->dash-bootstrap-components) (5.22.0)\n",
      "Requirement already satisfied: requests in /Users/yang/Library/Python/3.9/lib/python/site-packages (from dash>=2.0.0->dash-bootstrap-components) (2.32.3)\n",
      "Requirement already satisfied: dash-table==5.0.0 in /Users/yang/Library/Python/3.9/lib/python/site-packages (from dash>=2.0.0->dash-bootstrap-components) (5.0.0)\n",
      "Requirement already satisfied: dash-html-components==2.0.0 in /Users/yang/Library/Python/3.9/lib/python/site-packages (from dash>=2.0.0->dash-bootstrap-components) (2.0.0)\n",
      "Requirement already satisfied: Flask<3.1,>=1.0.4 in /Users/yang/Library/Python/3.9/lib/python/site-packages (from dash>=2.0.0->dash-bootstrap-components) (3.0.3)\n",
      "Requirement already satisfied: Jinja2>=3.1.2 in /Users/yang/Library/Python/3.9/lib/python/site-packages (from Flask<3.1,>=1.0.4->dash>=2.0.0->dash-bootstrap-components) (3.1.4)\n",
      "Requirement already satisfied: blinker>=1.6.2 in /Users/yang/Library/Python/3.9/lib/python/site-packages (from Flask<3.1,>=1.0.4->dash>=2.0.0->dash-bootstrap-components) (1.8.2)\n",
      "Requirement already satisfied: itsdangerous>=2.1.2 in /Users/yang/Library/Python/3.9/lib/python/site-packages (from Flask<3.1,>=1.0.4->dash>=2.0.0->dash-bootstrap-components) (2.2.0)\n",
      "Requirement already satisfied: click>=8.1.3 in /Users/yang/Library/Python/3.9/lib/python/site-packages (from Flask<3.1,>=1.0.4->dash>=2.0.0->dash-bootstrap-components) (8.1.7)\n",
      "Requirement already satisfied: zipp>=0.5 in /Users/yang/Library/Python/3.9/lib/python/site-packages (from importlib-metadata->dash>=2.0.0->dash-bootstrap-components) (3.19.2)\n",
      "Requirement already satisfied: MarkupSafe>=2.0 in /Users/yang/Library/Python/3.9/lib/python/site-packages (from Jinja2>=3.1.2->Flask<3.1,>=1.0.4->dash>=2.0.0->dash-bootstrap-components) (2.1.5)\n",
      "Requirement already satisfied: tenacity>=6.2.0 in /Users/yang/Library/Python/3.9/lib/python/site-packages (from plotly>=5.0.0->dash>=2.0.0->dash-bootstrap-components) (8.3.0)\n",
      "Requirement already satisfied: packaging in /Users/yang/Library/Python/3.9/lib/python/site-packages (from plotly>=5.0.0->dash>=2.0.0->dash-bootstrap-components) (24.0)\n",
      "Requirement already satisfied: urllib3<3,>=1.21.1 in /Users/yang/Library/Python/3.9/lib/python/site-packages (from requests->dash>=2.0.0->dash-bootstrap-components) (2.2.1)\n",
      "Requirement already satisfied: certifi>=2017.4.17 in /Users/yang/Library/Python/3.9/lib/python/site-packages (from requests->dash>=2.0.0->dash-bootstrap-components) (2024.6.2)\n",
      "Requirement already satisfied: idna<4,>=2.5 in /Users/yang/Library/Python/3.9/lib/python/site-packages (from requests->dash>=2.0.0->dash-bootstrap-components) (3.7)\n",
      "Requirement already satisfied: charset-normalizer<4,>=2 in /Users/yang/Library/Python/3.9/lib/python/site-packages (from requests->dash>=2.0.0->dash-bootstrap-components) (3.3.2)\n",
      "Requirement already satisfied: six>=1.7.0 in /Library/Developer/CommandLineTools/Library/Frameworks/Python3.framework/Versions/3.9/lib/python3.9/site-packages (from retrying->dash>=2.0.0->dash-bootstrap-components) (1.15.0)\n",
      "\u001b[33mWARNING: You are using pip version 21.2.4; however, version 24.0 is available.\n",
      "You should consider upgrading via the '/Library/Developer/CommandLineTools/usr/bin/python3 -m pip install --upgrade pip' command.\u001b[0m\n",
      "Note: you may need to restart the kernel to use updated packages.\n"
     ]
    }
   ],
   "source": [
    "pip install dash-bootstrap-components"
   ]
  },
  {
   "cell_type": "code",
   "execution_count": 84,
   "id": "bc0576c3",
   "metadata": {},
   "outputs": [
    {
     "name": "stdout",
     "output_type": "stream",
     "text": [
      "Defaulting to user installation because normal site-packages is not writeable\n",
      "Requirement already satisfied: flask in /Users/yang/Library/Python/3.9/lib/python/site-packages (3.0.3)\n",
      "Requirement already satisfied: itsdangerous>=2.1.2 in /Users/yang/Library/Python/3.9/lib/python/site-packages (from flask) (2.2.0)\n",
      "Requirement already satisfied: blinker>=1.6.2 in /Users/yang/Library/Python/3.9/lib/python/site-packages (from flask) (1.8.2)\n",
      "Requirement already satisfied: Werkzeug>=3.0.0 in /Users/yang/Library/Python/3.9/lib/python/site-packages (from flask) (3.0.3)\n",
      "Requirement already satisfied: Jinja2>=3.1.2 in /Users/yang/Library/Python/3.9/lib/python/site-packages (from flask) (3.1.4)\n",
      "Requirement already satisfied: click>=8.1.3 in /Users/yang/Library/Python/3.9/lib/python/site-packages (from flask) (8.1.7)\n",
      "Requirement already satisfied: importlib-metadata>=3.6.0 in /Users/yang/Library/Python/3.9/lib/python/site-packages (from flask) (7.1.0)\n",
      "Requirement already satisfied: zipp>=0.5 in /Users/yang/Library/Python/3.9/lib/python/site-packages (from importlib-metadata>=3.6.0->flask) (3.19.2)\n",
      "Requirement already satisfied: MarkupSafe>=2.0 in /Users/yang/Library/Python/3.9/lib/python/site-packages (from Jinja2>=3.1.2->flask) (2.1.5)\n",
      "\u001b[33mWARNING: You are using pip version 21.2.4; however, version 24.0 is available.\n",
      "You should consider upgrading via the '/Library/Developer/CommandLineTools/usr/bin/python3 -m pip install --upgrade pip' command.\u001b[0m\n",
      "Note: you may need to restart the kernel to use updated packages.\n"
     ]
    }
   ],
   "source": [
    "pip install flask"
   ]
  },
  {
   "cell_type": "code",
   "execution_count": 85,
   "id": "5895d2a2",
   "metadata": {},
   "outputs": [
    {
     "name": "stdout",
     "output_type": "stream",
     "text": [
      "Defaulting to user installation because normal site-packages is not writeable\n",
      "Requirement already satisfied: dash in /Users/yang/Library/Python/3.9/lib/python/site-packages (2.17.0)\n",
      "Requirement already satisfied: Flask<3.1,>=1.0.4 in /Users/yang/Library/Python/3.9/lib/python/site-packages (from dash) (3.0.3)\n",
      "Requirement already satisfied: setuptools in /Library/Developer/CommandLineTools/Library/Frameworks/Python3.framework/Versions/3.9/lib/python3.9/site-packages (from dash) (58.0.4)\n",
      "Requirement already satisfied: nest-asyncio in /Users/yang/Library/Python/3.9/lib/python/site-packages (from dash) (1.6.0)\n",
      "Requirement already satisfied: dash-core-components==2.0.0 in /Users/yang/Library/Python/3.9/lib/python/site-packages (from dash) (2.0.0)\n",
      "Requirement already satisfied: dash-table==5.0.0 in /Users/yang/Library/Python/3.9/lib/python/site-packages (from dash) (5.0.0)\n",
      "Requirement already satisfied: plotly>=5.0.0 in /Users/yang/Library/Python/3.9/lib/python/site-packages (from dash) (5.22.0)\n",
      "Requirement already satisfied: Werkzeug<3.1 in /Users/yang/Library/Python/3.9/lib/python/site-packages (from dash) (3.0.3)\n",
      "Requirement already satisfied: importlib-metadata in /Users/yang/Library/Python/3.9/lib/python/site-packages (from dash) (7.1.0)\n",
      "Requirement already satisfied: typing-extensions>=4.1.1 in /Users/yang/Library/Python/3.9/lib/python/site-packages (from dash) (4.12.1)\n",
      "Requirement already satisfied: requests in /Users/yang/Library/Python/3.9/lib/python/site-packages (from dash) (2.32.3)\n",
      "Requirement already satisfied: retrying in /Users/yang/Library/Python/3.9/lib/python/site-packages (from dash) (1.3.4)\n",
      "Requirement already satisfied: dash-html-components==2.0.0 in /Users/yang/Library/Python/3.9/lib/python/site-packages (from dash) (2.0.0)\n",
      "Requirement already satisfied: itsdangerous>=2.1.2 in /Users/yang/Library/Python/3.9/lib/python/site-packages (from Flask<3.1,>=1.0.4->dash) (2.2.0)\n",
      "Requirement already satisfied: blinker>=1.6.2 in /Users/yang/Library/Python/3.9/lib/python/site-packages (from Flask<3.1,>=1.0.4->dash) (1.8.2)\n",
      "Requirement already satisfied: Jinja2>=3.1.2 in /Users/yang/Library/Python/3.9/lib/python/site-packages (from Flask<3.1,>=1.0.4->dash) (3.1.4)\n",
      "Requirement already satisfied: click>=8.1.3 in /Users/yang/Library/Python/3.9/lib/python/site-packages (from Flask<3.1,>=1.0.4->dash) (8.1.7)\n",
      "Requirement already satisfied: zipp>=0.5 in /Users/yang/Library/Python/3.9/lib/python/site-packages (from importlib-metadata->dash) (3.19.2)\n",
      "Requirement already satisfied: MarkupSafe>=2.0 in /Users/yang/Library/Python/3.9/lib/python/site-packages (from Jinja2>=3.1.2->Flask<3.1,>=1.0.4->dash) (2.1.5)\n",
      "Requirement already satisfied: packaging in /Users/yang/Library/Python/3.9/lib/python/site-packages (from plotly>=5.0.0->dash) (24.0)\n",
      "Requirement already satisfied: tenacity>=6.2.0 in /Users/yang/Library/Python/3.9/lib/python/site-packages (from plotly>=5.0.0->dash) (8.3.0)\n",
      "Requirement already satisfied: certifi>=2017.4.17 in /Users/yang/Library/Python/3.9/lib/python/site-packages (from requests->dash) (2024.6.2)\n",
      "Requirement already satisfied: urllib3<3,>=1.21.1 in /Users/yang/Library/Python/3.9/lib/python/site-packages (from requests->dash) (2.2.1)\n",
      "Requirement already satisfied: idna<4,>=2.5 in /Users/yang/Library/Python/3.9/lib/python/site-packages (from requests->dash) (3.7)\n",
      "Requirement already satisfied: charset-normalizer<4,>=2 in /Users/yang/Library/Python/3.9/lib/python/site-packages (from requests->dash) (3.3.2)\n",
      "Requirement already satisfied: six>=1.7.0 in /Library/Developer/CommandLineTools/Library/Frameworks/Python3.framework/Versions/3.9/lib/python3.9/site-packages (from retrying->dash) (1.15.0)\n",
      "\u001b[33mWARNING: You are using pip version 21.2.4; however, version 24.0 is available.\n",
      "You should consider upgrading via the '/Library/Developer/CommandLineTools/usr/bin/python3 -m pip install --upgrade pip' command.\u001b[0m\n",
      "Note: you may need to restart the kernel to use updated packages.\n"
     ]
    }
   ],
   "source": [
    "pip install dash"
   ]
  },
  {
   "cell_type": "code",
   "execution_count": 86,
   "id": "06bede5e",
   "metadata": {},
   "outputs": [],
   "source": [
    "import pathlib\n",
    "import re\n",
    "import json\n",
    "from datetime import datetime\n",
    "import flask\n",
    "import dash\n",
    "import dash_table\n",
    "import matplotlib.colors as mcolors\n",
    "import dash_bootstrap_components as dbc\n",
    "import dash_core_components as dcc\n",
    "import dash_html_components as html\n",
    "import plotly.graph_objs as go\n",
    "import plotly.express as px\n",
    "import pandas as pd\n",
    "import numpy as np\n",
    "from dash.dependencies import Output, Input, State\n",
    "from dateutil import relativedelta\n",
    "from sklearn.manifold import TSNE"
   ]
  },
  {
   "cell_type": "markdown",
   "id": "85b82ac1",
   "metadata": {},
   "source": [
    "# 내 데이터"
   ]
  },
  {
   "cell_type": "code",
   "execution_count": 87,
   "id": "c66df7bb",
   "metadata": {},
   "outputs": [],
   "source": [
    "import pandas as pd\n",
    "import numpy as np\n",
    "import seaborn as sns\n",
    "# import database\n",
    "import matplotlib.pyplot as plt\n",
    "import matplotlib.font_manager as fm\n",
    "import matplotlib.cm as cm\n",
    "plt.style.use(\"ggplot\")\n",
    "plt.rc('font', family = 'Malgun Gothic')\n",
    "plt.rcParams['font.family']\n",
    "\n",
    "from datetime import datetime\n",
    "from IPython.display import display\n",
    "import calendar\n",
    "from scipy import stats\n",
    "from scipy.stats import skew, norm, probplot, boxcox, kurtosis\n",
    "from sklearn.preprocessing import StandardScaler\n",
    "import math\n",
    "from sklearn.cluster import KMeans\n",
    "from sklearn.metrics import silhouette_score, silhouette_samples\n",
    "import datetime\n",
    "import bw_database"
   ]
  },
  {
   "cell_type": "code",
   "execution_count": 88,
   "id": "719210cc",
   "metadata": {},
   "outputs": [
    {
     "data": {
      "text/html": [
       "<div>\n",
       "<style scoped>\n",
       "    .dataframe tbody tr th:only-of-type {\n",
       "        vertical-align: middle;\n",
       "    }\n",
       "\n",
       "    .dataframe tbody tr th {\n",
       "        vertical-align: top;\n",
       "    }\n",
       "\n",
       "    .dataframe thead th {\n",
       "        text-align: right;\n",
       "    }\n",
       "</style>\n",
       "<table border=\"1\" class=\"dataframe\">\n",
       "  <thead>\n",
       "    <tr style=\"text-align: right;\">\n",
       "      <th></th>\n",
       "      <th>rowid</th>\n",
       "      <th>IND</th>\n",
       "      <th>고객ID</th>\n",
       "      <th>거래ID</th>\n",
       "      <th>거래날짜</th>\n",
       "      <th>제품ID</th>\n",
       "      <th>제품카테고리</th>\n",
       "      <th>수량</th>\n",
       "      <th>평균금액</th>\n",
       "      <th>배송료</th>\n",
       "      <th>...</th>\n",
       "      <th>고객소비액</th>\n",
       "      <th>매출</th>\n",
       "      <th>처음거래날짜</th>\n",
       "      <th>마지막거래날짜</th>\n",
       "      <th>거래날차이</th>\n",
       "      <th>재방문여부</th>\n",
       "      <th>Recency</th>\n",
       "      <th>Frequency</th>\n",
       "      <th>Monetary</th>\n",
       "      <th>고객분류</th>\n",
       "    </tr>\n",
       "  </thead>\n",
       "  <tbody>\n",
       "    <tr>\n",
       "      <th>0</th>\n",
       "      <td>1</td>\n",
       "      <td>0</td>\n",
       "      <td>USER_1358</td>\n",
       "      <td>Transaction_0000</td>\n",
       "      <td>2019-01-01 00:00:00</td>\n",
       "      <td>Product_0981</td>\n",
       "      <td>Nest-USA</td>\n",
       "      <td>1</td>\n",
       "      <td>153.71</td>\n",
       "      <td>6.50</td>\n",
       "      <td>...</td>\n",
       "      <td>158.6729</td>\n",
       "      <td>153.71</td>\n",
       "      <td>2019-01-01 00:00:00</td>\n",
       "      <td>2019-01-26 00:00:00</td>\n",
       "      <td>25 days</td>\n",
       "      <td>1</td>\n",
       "      <td>279</td>\n",
       "      <td>177</td>\n",
       "      <td>37847.29341</td>\n",
       "      <td>VIP고객</td>\n",
       "    </tr>\n",
       "    <tr>\n",
       "      <th>1</th>\n",
       "      <td>2</td>\n",
       "      <td>1</td>\n",
       "      <td>USER_1358</td>\n",
       "      <td>Transaction_0001</td>\n",
       "      <td>2019-01-01 00:00:00</td>\n",
       "      <td>Product_0981</td>\n",
       "      <td>Nest-USA</td>\n",
       "      <td>1</td>\n",
       "      <td>153.71</td>\n",
       "      <td>6.50</td>\n",
       "      <td>...</td>\n",
       "      <td>158.6729</td>\n",
       "      <td>153.71</td>\n",
       "      <td>2019-01-01 00:00:00</td>\n",
       "      <td>2019-01-26 00:00:00</td>\n",
       "      <td>25 days</td>\n",
       "      <td>1</td>\n",
       "      <td>279</td>\n",
       "      <td>177</td>\n",
       "      <td>37847.29341</td>\n",
       "      <td>VIP고객</td>\n",
       "    </tr>\n",
       "    <tr>\n",
       "      <th>2</th>\n",
       "      <td>3</td>\n",
       "      <td>2</td>\n",
       "      <td>USER_1358</td>\n",
       "      <td>Transaction_0002</td>\n",
       "      <td>2019-01-01 00:00:00</td>\n",
       "      <td>Product_0904</td>\n",
       "      <td>Office</td>\n",
       "      <td>1</td>\n",
       "      <td>2.05</td>\n",
       "      <td>6.50</td>\n",
       "      <td>...</td>\n",
       "      <td>8.5295</td>\n",
       "      <td>2.05</td>\n",
       "      <td>2019-01-01 00:00:00</td>\n",
       "      <td>2019-01-26 00:00:00</td>\n",
       "      <td>25 days</td>\n",
       "      <td>1</td>\n",
       "      <td>279</td>\n",
       "      <td>177</td>\n",
       "      <td>37847.29341</td>\n",
       "      <td>VIP고객</td>\n",
       "    </tr>\n",
       "    <tr>\n",
       "      <th>3</th>\n",
       "      <td>4</td>\n",
       "      <td>3</td>\n",
       "      <td>USER_1358</td>\n",
       "      <td>Transaction_0003</td>\n",
       "      <td>2019-01-01 00:00:00</td>\n",
       "      <td>Product_0203</td>\n",
       "      <td>Apparel</td>\n",
       "      <td>5</td>\n",
       "      <td>17.53</td>\n",
       "      <td>6.50</td>\n",
       "      <td>...</td>\n",
       "      <td>109.9270</td>\n",
       "      <td>87.65</td>\n",
       "      <td>2019-01-01 00:00:00</td>\n",
       "      <td>2019-01-26 00:00:00</td>\n",
       "      <td>25 days</td>\n",
       "      <td>1</td>\n",
       "      <td>279</td>\n",
       "      <td>177</td>\n",
       "      <td>37847.29341</td>\n",
       "      <td>VIP고객</td>\n",
       "    </tr>\n",
       "    <tr>\n",
       "      <th>4</th>\n",
       "      <td>5</td>\n",
       "      <td>4</td>\n",
       "      <td>USER_1358</td>\n",
       "      <td>Transaction_0003</td>\n",
       "      <td>2019-01-01 00:00:00</td>\n",
       "      <td>Product_0848</td>\n",
       "      <td>Bags</td>\n",
       "      <td>1</td>\n",
       "      <td>16.50</td>\n",
       "      <td>6.50</td>\n",
       "      <td>...</td>\n",
       "      <td>24.0230</td>\n",
       "      <td>16.50</td>\n",
       "      <td>2019-01-01 00:00:00</td>\n",
       "      <td>2019-01-26 00:00:00</td>\n",
       "      <td>25 days</td>\n",
       "      <td>1</td>\n",
       "      <td>279</td>\n",
       "      <td>177</td>\n",
       "      <td>37847.29341</td>\n",
       "      <td>VIP고객</td>\n",
       "    </tr>\n",
       "    <tr>\n",
       "      <th>...</th>\n",
       "      <td>...</td>\n",
       "      <td>...</td>\n",
       "      <td>...</td>\n",
       "      <td>...</td>\n",
       "      <td>...</td>\n",
       "      <td>...</td>\n",
       "      <td>...</td>\n",
       "      <td>...</td>\n",
       "      <td>...</td>\n",
       "      <td>...</td>\n",
       "      <td>...</td>\n",
       "      <td>...</td>\n",
       "      <td>...</td>\n",
       "      <td>...</td>\n",
       "      <td>...</td>\n",
       "      <td>...</td>\n",
       "      <td>...</td>\n",
       "      <td>...</td>\n",
       "      <td>...</td>\n",
       "      <td>...</td>\n",
       "      <td>...</td>\n",
       "    </tr>\n",
       "    <tr>\n",
       "      <th>44456</th>\n",
       "      <td>44457</td>\n",
       "      <td>44456</td>\n",
       "      <td>USER_0035</td>\n",
       "      <td>Transaction_20090</td>\n",
       "      <td>2019-10-31 00:00:00</td>\n",
       "      <td>Product_0989</td>\n",
       "      <td>Nest-USA</td>\n",
       "      <td>2</td>\n",
       "      <td>149.00</td>\n",
       "      <td>6.00</td>\n",
       "      <td>...</td>\n",
       "      <td>333.8000</td>\n",
       "      <td>298.00</td>\n",
       "      <td>2019-03-06 00:00:00</td>\n",
       "      <td>2019-10-31 00:00:00</td>\n",
       "      <td>239 days</td>\n",
       "      <td>1</td>\n",
       "      <td>1</td>\n",
       "      <td>25</td>\n",
       "      <td>6204.83896</td>\n",
       "      <td>관심고객</td>\n",
       "    </tr>\n",
       "    <tr>\n",
       "      <th>44457</th>\n",
       "      <td>44458</td>\n",
       "      <td>44457</td>\n",
       "      <td>USER_0035</td>\n",
       "      <td>Transaction_20091</td>\n",
       "      <td>2019-10-31 00:00:00</td>\n",
       "      <td>Product_0981</td>\n",
       "      <td>Nest-USA</td>\n",
       "      <td>1</td>\n",
       "      <td>149.00</td>\n",
       "      <td>6.00</td>\n",
       "      <td>...</td>\n",
       "      <td>153.5100</td>\n",
       "      <td>149.00</td>\n",
       "      <td>2019-03-06 00:00:00</td>\n",
       "      <td>2019-10-31 00:00:00</td>\n",
       "      <td>239 days</td>\n",
       "      <td>1</td>\n",
       "      <td>1</td>\n",
       "      <td>25</td>\n",
       "      <td>6204.83896</td>\n",
       "      <td>관심고객</td>\n",
       "    </tr>\n",
       "    <tr>\n",
       "      <th>44458</th>\n",
       "      <td>44459</td>\n",
       "      <td>44458</td>\n",
       "      <td>USER_0035</td>\n",
       "      <td>Transaction_20092</td>\n",
       "      <td>2019-10-31 00:00:00</td>\n",
       "      <td>Product_0990</td>\n",
       "      <td>Nest</td>\n",
       "      <td>1</td>\n",
       "      <td>199.00</td>\n",
       "      <td>19.99</td>\n",
       "      <td>...</td>\n",
       "      <td>208.0450</td>\n",
       "      <td>199.00</td>\n",
       "      <td>2019-03-06 00:00:00</td>\n",
       "      <td>2019-10-31 00:00:00</td>\n",
       "      <td>239 days</td>\n",
       "      <td>1</td>\n",
       "      <td>1</td>\n",
       "      <td>25</td>\n",
       "      <td>6204.83896</td>\n",
       "      <td>관심고객</td>\n",
       "    </tr>\n",
       "    <tr>\n",
       "      <th>44459</th>\n",
       "      <td>44460</td>\n",
       "      <td>44459</td>\n",
       "      <td>USER_0035</td>\n",
       "      <td>Transaction_20093</td>\n",
       "      <td>2019-10-31 00:00:00</td>\n",
       "      <td>Product_0992</td>\n",
       "      <td>Nest</td>\n",
       "      <td>1</td>\n",
       "      <td>99.00</td>\n",
       "      <td>6.00</td>\n",
       "      <td>...</td>\n",
       "      <td>109.9500</td>\n",
       "      <td>99.00</td>\n",
       "      <td>2019-03-06 00:00:00</td>\n",
       "      <td>2019-10-31 00:00:00</td>\n",
       "      <td>239 days</td>\n",
       "      <td>1</td>\n",
       "      <td>1</td>\n",
       "      <td>25</td>\n",
       "      <td>6204.83896</td>\n",
       "      <td>관심고객</td>\n",
       "    </tr>\n",
       "    <tr>\n",
       "      <th>44460</th>\n",
       "      <td>44461</td>\n",
       "      <td>44460</td>\n",
       "      <td>USER_0035</td>\n",
       "      <td>Transaction_20094</td>\n",
       "      <td>2019-10-31 00:00:00</td>\n",
       "      <td>Product_0976</td>\n",
       "      <td>Nest-USA</td>\n",
       "      <td>5</td>\n",
       "      <td>119.00</td>\n",
       "      <td>6.00</td>\n",
       "      <td>...</td>\n",
       "      <td>595.0500</td>\n",
       "      <td>595.00</td>\n",
       "      <td>2019-03-06 00:00:00</td>\n",
       "      <td>2019-10-31 00:00:00</td>\n",
       "      <td>239 days</td>\n",
       "      <td>1</td>\n",
       "      <td>1</td>\n",
       "      <td>25</td>\n",
       "      <td>6204.83896</td>\n",
       "      <td>관심고객</td>\n",
       "    </tr>\n",
       "  </tbody>\n",
       "</table>\n",
       "<p>44461 rows × 31 columns</p>\n",
       "</div>"
      ],
      "text/plain": [
       "       rowid    IND       고객ID               거래ID                 거래날짜  \\\n",
       "0          1      0  USER_1358   Transaction_0000  2019-01-01 00:00:00   \n",
       "1          2      1  USER_1358   Transaction_0001  2019-01-01 00:00:00   \n",
       "2          3      2  USER_1358   Transaction_0002  2019-01-01 00:00:00   \n",
       "3          4      3  USER_1358   Transaction_0003  2019-01-01 00:00:00   \n",
       "4          5      4  USER_1358   Transaction_0003  2019-01-01 00:00:00   \n",
       "...      ...    ...        ...                ...                  ...   \n",
       "44456  44457  44456  USER_0035  Transaction_20090  2019-10-31 00:00:00   \n",
       "44457  44458  44457  USER_0035  Transaction_20091  2019-10-31 00:00:00   \n",
       "44458  44459  44458  USER_0035  Transaction_20092  2019-10-31 00:00:00   \n",
       "44459  44460  44459  USER_0035  Transaction_20093  2019-10-31 00:00:00   \n",
       "44460  44461  44460  USER_0035  Transaction_20094  2019-10-31 00:00:00   \n",
       "\n",
       "               제품ID    제품카테고리  수량    평균금액    배송료  ...     고객소비액      매출  \\\n",
       "0      Product_0981  Nest-USA   1  153.71   6.50  ...  158.6729  153.71   \n",
       "1      Product_0981  Nest-USA   1  153.71   6.50  ...  158.6729  153.71   \n",
       "2      Product_0904    Office   1    2.05   6.50  ...    8.5295    2.05   \n",
       "3      Product_0203   Apparel   5   17.53   6.50  ...  109.9270   87.65   \n",
       "4      Product_0848      Bags   1   16.50   6.50  ...   24.0230   16.50   \n",
       "...             ...       ...  ..     ...    ...  ...       ...     ...   \n",
       "44456  Product_0989  Nest-USA   2  149.00   6.00  ...  333.8000  298.00   \n",
       "44457  Product_0981  Nest-USA   1  149.00   6.00  ...  153.5100  149.00   \n",
       "44458  Product_0990      Nest   1  199.00  19.99  ...  208.0450  199.00   \n",
       "44459  Product_0992      Nest   1   99.00   6.00  ...  109.9500   99.00   \n",
       "44460  Product_0976  Nest-USA   5  119.00   6.00  ...  595.0500  595.00   \n",
       "\n",
       "                    처음거래날짜              마지막거래날짜     거래날차이 재방문여부  Recency  \\\n",
       "0      2019-01-01 00:00:00  2019-01-26 00:00:00   25 days     1      279   \n",
       "1      2019-01-01 00:00:00  2019-01-26 00:00:00   25 days     1      279   \n",
       "2      2019-01-01 00:00:00  2019-01-26 00:00:00   25 days     1      279   \n",
       "3      2019-01-01 00:00:00  2019-01-26 00:00:00   25 days     1      279   \n",
       "4      2019-01-01 00:00:00  2019-01-26 00:00:00   25 days     1      279   \n",
       "...                    ...                  ...       ...   ...      ...   \n",
       "44456  2019-03-06 00:00:00  2019-10-31 00:00:00  239 days     1        1   \n",
       "44457  2019-03-06 00:00:00  2019-10-31 00:00:00  239 days     1        1   \n",
       "44458  2019-03-06 00:00:00  2019-10-31 00:00:00  239 days     1        1   \n",
       "44459  2019-03-06 00:00:00  2019-10-31 00:00:00  239 days     1        1   \n",
       "44460  2019-03-06 00:00:00  2019-10-31 00:00:00  239 days     1        1   \n",
       "\n",
       "       Frequency     Monetary   고객분류  \n",
       "0            177  37847.29341  VIP고객  \n",
       "1            177  37847.29341  VIP고객  \n",
       "2            177  37847.29341  VIP고객  \n",
       "3            177  37847.29341  VIP고객  \n",
       "4            177  37847.29341  VIP고객  \n",
       "...          ...          ...    ...  \n",
       "44456         25   6204.83896   관심고객  \n",
       "44457         25   6204.83896   관심고객  \n",
       "44458         25   6204.83896   관심고객  \n",
       "44459         25   6204.83896   관심고객  \n",
       "44460         25   6204.83896   관심고객  \n",
       "\n",
       "[44461 rows x 31 columns]"
      ]
     },
     "execution_count": 88,
     "metadata": {},
     "output_type": "execute_result"
    }
   ],
   "source": [
    "PLOTLY_LOGO = \"https://images.plot.ly/logo/new-branding/plotly-logomark.png\"\n",
    "rfm_clusters_final = bw_database.making_dataframe_our_db('rfm_clusters_final')\n",
    "train_bw = bw_database.making_dataframe_our_db('train_bw')\n",
    "monthly_clustered_customers = bw_database.making_dataframe_our_db('monthly_clustered_customers')\n",
    "monthly_clustered_monetary = bw_database.making_dataframe_our_db('monthly_clustered_monetary')\n",
    "grouped_df = bw_database.making_dataframe_our_db('grouped_df')\n",
    "coupon_sales = bw_database.making_dataframe_our_db('coupon_sales')\n",
    "\n",
    "train_bw\n",
    "# dt = database.making_dataframe('dt')\n",
    "# joined_df = database.making_dataframe('joined_df')\n",
    "# rfm_clusters_final = database.making_dataframe('rfm_clusters_final')\n",
    "# dt.drop(columns = ['rowid'], inplace = True)\n",
    "# joined_df.drop(columns = ['rowid'], inplace = True)\n",
    "# rfm_clusters_final.drop(columns = ['rowid'], inplace = True)"
   ]
  },
  {
   "cell_type": "code",
   "execution_count": 89,
   "id": "ea2153f6",
   "metadata": {},
   "outputs": [
    {
     "data": {
      "text/html": [
       "<div>\n",
       "<style scoped>\n",
       "    .dataframe tbody tr th:only-of-type {\n",
       "        vertical-align: middle;\n",
       "    }\n",
       "\n",
       "    .dataframe tbody tr th {\n",
       "        vertical-align: top;\n",
       "    }\n",
       "\n",
       "    .dataframe thead th {\n",
       "        text-align: right;\n",
       "    }\n",
       "</style>\n",
       "<table border=\"1\" class=\"dataframe\">\n",
       "  <thead>\n",
       "    <tr style=\"text-align: right;\">\n",
       "      <th></th>\n",
       "      <th>고객ID</th>\n",
       "      <th>처음거래날짜</th>\n",
       "      <th>마지막거래날짜</th>\n",
       "      <th>거래날차이</th>\n",
       "      <th>재방문여부</th>\n",
       "      <th>Recency</th>\n",
       "      <th>Frequency</th>\n",
       "      <th>Monetary</th>\n",
       "      <th>고객분류</th>\n",
       "    </tr>\n",
       "  </thead>\n",
       "  <tbody>\n",
       "    <tr>\n",
       "      <th>0</th>\n",
       "      <td>USER_1358</td>\n",
       "      <td>2019-01-01 00:00:00</td>\n",
       "      <td>2019-01-26 00:00:00</td>\n",
       "      <td>25 days</td>\n",
       "      <td>1</td>\n",
       "      <td>279</td>\n",
       "      <td>177</td>\n",
       "      <td>37847.29341</td>\n",
       "      <td>VIP고객</td>\n",
       "    </tr>\n",
       "    <tr>\n",
       "      <th>1</th>\n",
       "      <td>USER_1358</td>\n",
       "      <td>2019-01-01 00:00:00</td>\n",
       "      <td>2019-01-26 00:00:00</td>\n",
       "      <td>25 days</td>\n",
       "      <td>1</td>\n",
       "      <td>279</td>\n",
       "      <td>177</td>\n",
       "      <td>37847.29341</td>\n",
       "      <td>VIP고객</td>\n",
       "    </tr>\n",
       "    <tr>\n",
       "      <th>2</th>\n",
       "      <td>USER_1358</td>\n",
       "      <td>2019-01-01 00:00:00</td>\n",
       "      <td>2019-01-26 00:00:00</td>\n",
       "      <td>25 days</td>\n",
       "      <td>1</td>\n",
       "      <td>279</td>\n",
       "      <td>177</td>\n",
       "      <td>37847.29341</td>\n",
       "      <td>VIP고객</td>\n",
       "    </tr>\n",
       "    <tr>\n",
       "      <th>3</th>\n",
       "      <td>USER_1358</td>\n",
       "      <td>2019-01-01 00:00:00</td>\n",
       "      <td>2019-01-26 00:00:00</td>\n",
       "      <td>25 days</td>\n",
       "      <td>1</td>\n",
       "      <td>279</td>\n",
       "      <td>177</td>\n",
       "      <td>37847.29341</td>\n",
       "      <td>VIP고객</td>\n",
       "    </tr>\n",
       "    <tr>\n",
       "      <th>4</th>\n",
       "      <td>USER_1358</td>\n",
       "      <td>2019-01-01 00:00:00</td>\n",
       "      <td>2019-01-26 00:00:00</td>\n",
       "      <td>25 days</td>\n",
       "      <td>1</td>\n",
       "      <td>279</td>\n",
       "      <td>177</td>\n",
       "      <td>37847.29341</td>\n",
       "      <td>VIP고객</td>\n",
       "    </tr>\n",
       "    <tr>\n",
       "      <th>...</th>\n",
       "      <td>...</td>\n",
       "      <td>...</td>\n",
       "      <td>...</td>\n",
       "      <td>...</td>\n",
       "      <td>...</td>\n",
       "      <td>...</td>\n",
       "      <td>...</td>\n",
       "      <td>...</td>\n",
       "      <td>...</td>\n",
       "    </tr>\n",
       "    <tr>\n",
       "      <th>44456</th>\n",
       "      <td>USER_0035</td>\n",
       "      <td>2019-03-06 00:00:00</td>\n",
       "      <td>2019-10-31 00:00:00</td>\n",
       "      <td>239 days</td>\n",
       "      <td>1</td>\n",
       "      <td>1</td>\n",
       "      <td>25</td>\n",
       "      <td>6204.83896</td>\n",
       "      <td>관심고객</td>\n",
       "    </tr>\n",
       "    <tr>\n",
       "      <th>44457</th>\n",
       "      <td>USER_0035</td>\n",
       "      <td>2019-03-06 00:00:00</td>\n",
       "      <td>2019-10-31 00:00:00</td>\n",
       "      <td>239 days</td>\n",
       "      <td>1</td>\n",
       "      <td>1</td>\n",
       "      <td>25</td>\n",
       "      <td>6204.83896</td>\n",
       "      <td>관심고객</td>\n",
       "    </tr>\n",
       "    <tr>\n",
       "      <th>44458</th>\n",
       "      <td>USER_0035</td>\n",
       "      <td>2019-03-06 00:00:00</td>\n",
       "      <td>2019-10-31 00:00:00</td>\n",
       "      <td>239 days</td>\n",
       "      <td>1</td>\n",
       "      <td>1</td>\n",
       "      <td>25</td>\n",
       "      <td>6204.83896</td>\n",
       "      <td>관심고객</td>\n",
       "    </tr>\n",
       "    <tr>\n",
       "      <th>44459</th>\n",
       "      <td>USER_0035</td>\n",
       "      <td>2019-03-06 00:00:00</td>\n",
       "      <td>2019-10-31 00:00:00</td>\n",
       "      <td>239 days</td>\n",
       "      <td>1</td>\n",
       "      <td>1</td>\n",
       "      <td>25</td>\n",
       "      <td>6204.83896</td>\n",
       "      <td>관심고객</td>\n",
       "    </tr>\n",
       "    <tr>\n",
       "      <th>44460</th>\n",
       "      <td>USER_0035</td>\n",
       "      <td>2019-03-06 00:00:00</td>\n",
       "      <td>2019-10-31 00:00:00</td>\n",
       "      <td>239 days</td>\n",
       "      <td>1</td>\n",
       "      <td>1</td>\n",
       "      <td>25</td>\n",
       "      <td>6204.83896</td>\n",
       "      <td>관심고객</td>\n",
       "    </tr>\n",
       "  </tbody>\n",
       "</table>\n",
       "<p>44461 rows × 9 columns</p>\n",
       "</div>"
      ],
      "text/plain": [
       "            고객ID               처음거래날짜              마지막거래날짜     거래날차이  재방문여부  \\\n",
       "0      USER_1358  2019-01-01 00:00:00  2019-01-26 00:00:00   25 days      1   \n",
       "1      USER_1358  2019-01-01 00:00:00  2019-01-26 00:00:00   25 days      1   \n",
       "2      USER_1358  2019-01-01 00:00:00  2019-01-26 00:00:00   25 days      1   \n",
       "3      USER_1358  2019-01-01 00:00:00  2019-01-26 00:00:00   25 days      1   \n",
       "4      USER_1358  2019-01-01 00:00:00  2019-01-26 00:00:00   25 days      1   \n",
       "...          ...                  ...                  ...       ...    ...   \n",
       "44456  USER_0035  2019-03-06 00:00:00  2019-10-31 00:00:00  239 days      1   \n",
       "44457  USER_0035  2019-03-06 00:00:00  2019-10-31 00:00:00  239 days      1   \n",
       "44458  USER_0035  2019-03-06 00:00:00  2019-10-31 00:00:00  239 days      1   \n",
       "44459  USER_0035  2019-03-06 00:00:00  2019-10-31 00:00:00  239 days      1   \n",
       "44460  USER_0035  2019-03-06 00:00:00  2019-10-31 00:00:00  239 days      1   \n",
       "\n",
       "       Recency  Frequency     Monetary   고객분류  \n",
       "0          279        177  37847.29341  VIP고객  \n",
       "1          279        177  37847.29341  VIP고객  \n",
       "2          279        177  37847.29341  VIP고객  \n",
       "3          279        177  37847.29341  VIP고객  \n",
       "4          279        177  37847.29341  VIP고객  \n",
       "...        ...        ...          ...    ...  \n",
       "44456        1         25   6204.83896   관심고객  \n",
       "44457        1         25   6204.83896   관심고객  \n",
       "44458        1         25   6204.83896   관심고객  \n",
       "44459        1         25   6204.83896   관심고객  \n",
       "44460        1         25   6204.83896   관심고객  \n",
       "\n",
       "[44461 rows x 9 columns]"
      ]
     },
     "execution_count": 89,
     "metadata": {},
     "output_type": "execute_result"
    }
   ],
   "source": [
    "dt = train_bw[['고객ID'\t,'처음거래날짜'\t,'마지막거래날짜'\t,'거래날차이'\t,'재방문여부'\t,'Recency'\t,'Frequency','Monetary','고객분류']]\n",
    "dt"
   ]
  },
  {
   "cell_type": "code",
   "execution_count": 90,
   "id": "d1c2088a",
   "metadata": {},
   "outputs": [
    {
     "data": {
      "text/html": [
       "<div>\n",
       "<style scoped>\n",
       "    .dataframe tbody tr th:only-of-type {\n",
       "        vertical-align: middle;\n",
       "    }\n",
       "\n",
       "    .dataframe tbody tr th {\n",
       "        vertical-align: top;\n",
       "    }\n",
       "\n",
       "    .dataframe thead th {\n",
       "        text-align: right;\n",
       "    }\n",
       "</style>\n",
       "<table border=\"1\" class=\"dataframe\">\n",
       "  <thead>\n",
       "    <tr style=\"text-align: right;\">\n",
       "      <th></th>\n",
       "      <th>고객ID</th>\n",
       "      <th>거래ID</th>\n",
       "      <th>거래날짜</th>\n",
       "      <th>제품ID</th>\n",
       "      <th>제품카테고리</th>\n",
       "      <th>수량</th>\n",
       "      <th>평균금액</th>\n",
       "      <th>배송료</th>\n",
       "      <th>쿠폰상태</th>\n",
       "      <th>성별</th>\n",
       "      <th>고객지역</th>\n",
       "      <th>가입기간</th>\n",
       "      <th>월</th>\n",
       "      <th>쿠폰코드</th>\n",
       "      <th>할인율</th>\n",
       "      <th>GST</th>\n",
       "      <th>고객소비액</th>\n",
       "      <th>매출</th>\n",
       "      <th>고객분류</th>\n",
       "    </tr>\n",
       "  </thead>\n",
       "  <tbody>\n",
       "    <tr>\n",
       "      <th>0</th>\n",
       "      <td>USER_1358</td>\n",
       "      <td>Transaction_0000</td>\n",
       "      <td>2019-01-01 00:00:00</td>\n",
       "      <td>Product_0981</td>\n",
       "      <td>Nest-USA</td>\n",
       "      <td>1</td>\n",
       "      <td>153.71</td>\n",
       "      <td>6.50</td>\n",
       "      <td>Used</td>\n",
       "      <td>남</td>\n",
       "      <td>Chicago</td>\n",
       "      <td>12</td>\n",
       "      <td>1</td>\n",
       "      <td>ELEC10</td>\n",
       "      <td>10.0</td>\n",
       "      <td>0.10</td>\n",
       "      <td>158.6729</td>\n",
       "      <td>153.71</td>\n",
       "      <td>VIP고객</td>\n",
       "    </tr>\n",
       "    <tr>\n",
       "      <th>1</th>\n",
       "      <td>USER_1358</td>\n",
       "      <td>Transaction_0001</td>\n",
       "      <td>2019-01-01 00:00:00</td>\n",
       "      <td>Product_0981</td>\n",
       "      <td>Nest-USA</td>\n",
       "      <td>1</td>\n",
       "      <td>153.71</td>\n",
       "      <td>6.50</td>\n",
       "      <td>Used</td>\n",
       "      <td>남</td>\n",
       "      <td>Chicago</td>\n",
       "      <td>12</td>\n",
       "      <td>1</td>\n",
       "      <td>ELEC10</td>\n",
       "      <td>10.0</td>\n",
       "      <td>0.10</td>\n",
       "      <td>158.6729</td>\n",
       "      <td>153.71</td>\n",
       "      <td>VIP고객</td>\n",
       "    </tr>\n",
       "    <tr>\n",
       "      <th>2</th>\n",
       "      <td>USER_1358</td>\n",
       "      <td>Transaction_0002</td>\n",
       "      <td>2019-01-01 00:00:00</td>\n",
       "      <td>Product_0904</td>\n",
       "      <td>Office</td>\n",
       "      <td>1</td>\n",
       "      <td>2.05</td>\n",
       "      <td>6.50</td>\n",
       "      <td>Used</td>\n",
       "      <td>남</td>\n",
       "      <td>Chicago</td>\n",
       "      <td>12</td>\n",
       "      <td>1</td>\n",
       "      <td>OFF10</td>\n",
       "      <td>10.0</td>\n",
       "      <td>0.10</td>\n",
       "      <td>8.5295</td>\n",
       "      <td>2.05</td>\n",
       "      <td>VIP고객</td>\n",
       "    </tr>\n",
       "    <tr>\n",
       "      <th>3</th>\n",
       "      <td>USER_1358</td>\n",
       "      <td>Transaction_0003</td>\n",
       "      <td>2019-01-01 00:00:00</td>\n",
       "      <td>Product_0203</td>\n",
       "      <td>Apparel</td>\n",
       "      <td>5</td>\n",
       "      <td>17.53</td>\n",
       "      <td>6.50</td>\n",
       "      <td>Not Used</td>\n",
       "      <td>남</td>\n",
       "      <td>Chicago</td>\n",
       "      <td>12</td>\n",
       "      <td>1</td>\n",
       "      <td>SALE10</td>\n",
       "      <td>0.0</td>\n",
       "      <td>0.18</td>\n",
       "      <td>109.9270</td>\n",
       "      <td>87.65</td>\n",
       "      <td>VIP고객</td>\n",
       "    </tr>\n",
       "    <tr>\n",
       "      <th>4</th>\n",
       "      <td>USER_1358</td>\n",
       "      <td>Transaction_0003</td>\n",
       "      <td>2019-01-01 00:00:00</td>\n",
       "      <td>Product_0848</td>\n",
       "      <td>Bags</td>\n",
       "      <td>1</td>\n",
       "      <td>16.50</td>\n",
       "      <td>6.50</td>\n",
       "      <td>Used</td>\n",
       "      <td>남</td>\n",
       "      <td>Chicago</td>\n",
       "      <td>12</td>\n",
       "      <td>1</td>\n",
       "      <td>AIO10</td>\n",
       "      <td>10.0</td>\n",
       "      <td>0.18</td>\n",
       "      <td>24.0230</td>\n",
       "      <td>16.50</td>\n",
       "      <td>VIP고객</td>\n",
       "    </tr>\n",
       "    <tr>\n",
       "      <th>...</th>\n",
       "      <td>...</td>\n",
       "      <td>...</td>\n",
       "      <td>...</td>\n",
       "      <td>...</td>\n",
       "      <td>...</td>\n",
       "      <td>...</td>\n",
       "      <td>...</td>\n",
       "      <td>...</td>\n",
       "      <td>...</td>\n",
       "      <td>...</td>\n",
       "      <td>...</td>\n",
       "      <td>...</td>\n",
       "      <td>...</td>\n",
       "      <td>...</td>\n",
       "      <td>...</td>\n",
       "      <td>...</td>\n",
       "      <td>...</td>\n",
       "      <td>...</td>\n",
       "      <td>...</td>\n",
       "    </tr>\n",
       "    <tr>\n",
       "      <th>44456</th>\n",
       "      <td>USER_0035</td>\n",
       "      <td>Transaction_20090</td>\n",
       "      <td>2019-10-31 00:00:00</td>\n",
       "      <td>Product_0989</td>\n",
       "      <td>Nest-USA</td>\n",
       "      <td>2</td>\n",
       "      <td>149.00</td>\n",
       "      <td>6.00</td>\n",
       "      <td>Not Used</td>\n",
       "      <td>여</td>\n",
       "      <td>New York</td>\n",
       "      <td>26</td>\n",
       "      <td>10</td>\n",
       "      <td>ELEC10</td>\n",
       "      <td>0.0</td>\n",
       "      <td>0.10</td>\n",
       "      <td>333.8000</td>\n",
       "      <td>298.00</td>\n",
       "      <td>관심고객</td>\n",
       "    </tr>\n",
       "    <tr>\n",
       "      <th>44457</th>\n",
       "      <td>USER_0035</td>\n",
       "      <td>Transaction_20091</td>\n",
       "      <td>2019-10-31 00:00:00</td>\n",
       "      <td>Product_0981</td>\n",
       "      <td>Nest-USA</td>\n",
       "      <td>1</td>\n",
       "      <td>149.00</td>\n",
       "      <td>6.00</td>\n",
       "      <td>Used</td>\n",
       "      <td>여</td>\n",
       "      <td>New York</td>\n",
       "      <td>26</td>\n",
       "      <td>10</td>\n",
       "      <td>ELEC10</td>\n",
       "      <td>10.0</td>\n",
       "      <td>0.10</td>\n",
       "      <td>153.5100</td>\n",
       "      <td>149.00</td>\n",
       "      <td>관심고객</td>\n",
       "    </tr>\n",
       "    <tr>\n",
       "      <th>44458</th>\n",
       "      <td>USER_0035</td>\n",
       "      <td>Transaction_20092</td>\n",
       "      <td>2019-10-31 00:00:00</td>\n",
       "      <td>Product_0990</td>\n",
       "      <td>Nest</td>\n",
       "      <td>1</td>\n",
       "      <td>199.00</td>\n",
       "      <td>19.99</td>\n",
       "      <td>Used</td>\n",
       "      <td>여</td>\n",
       "      <td>New York</td>\n",
       "      <td>26</td>\n",
       "      <td>10</td>\n",
       "      <td>NE10</td>\n",
       "      <td>10.0</td>\n",
       "      <td>0.05</td>\n",
       "      <td>208.0450</td>\n",
       "      <td>199.00</td>\n",
       "      <td>관심고객</td>\n",
       "    </tr>\n",
       "    <tr>\n",
       "      <th>44459</th>\n",
       "      <td>USER_0035</td>\n",
       "      <td>Transaction_20093</td>\n",
       "      <td>2019-10-31 00:00:00</td>\n",
       "      <td>Product_0992</td>\n",
       "      <td>Nest</td>\n",
       "      <td>1</td>\n",
       "      <td>99.00</td>\n",
       "      <td>6.00</td>\n",
       "      <td>Clicked</td>\n",
       "      <td>여</td>\n",
       "      <td>New York</td>\n",
       "      <td>26</td>\n",
       "      <td>10</td>\n",
       "      <td>NE10</td>\n",
       "      <td>0.0</td>\n",
       "      <td>0.05</td>\n",
       "      <td>109.9500</td>\n",
       "      <td>99.00</td>\n",
       "      <td>관심고객</td>\n",
       "    </tr>\n",
       "    <tr>\n",
       "      <th>44460</th>\n",
       "      <td>USER_0035</td>\n",
       "      <td>Transaction_20094</td>\n",
       "      <td>2019-10-31 00:00:00</td>\n",
       "      <td>Product_0976</td>\n",
       "      <td>Nest-USA</td>\n",
       "      <td>5</td>\n",
       "      <td>119.00</td>\n",
       "      <td>6.00</td>\n",
       "      <td>Used</td>\n",
       "      <td>여</td>\n",
       "      <td>New York</td>\n",
       "      <td>26</td>\n",
       "      <td>10</td>\n",
       "      <td>ELEC10</td>\n",
       "      <td>10.0</td>\n",
       "      <td>0.10</td>\n",
       "      <td>595.0500</td>\n",
       "      <td>595.00</td>\n",
       "      <td>관심고객</td>\n",
       "    </tr>\n",
       "  </tbody>\n",
       "</table>\n",
       "<p>44461 rows × 19 columns</p>\n",
       "</div>"
      ],
      "text/plain": [
       "            고객ID               거래ID                 거래날짜          제품ID  \\\n",
       "0      USER_1358   Transaction_0000  2019-01-01 00:00:00  Product_0981   \n",
       "1      USER_1358   Transaction_0001  2019-01-01 00:00:00  Product_0981   \n",
       "2      USER_1358   Transaction_0002  2019-01-01 00:00:00  Product_0904   \n",
       "3      USER_1358   Transaction_0003  2019-01-01 00:00:00  Product_0203   \n",
       "4      USER_1358   Transaction_0003  2019-01-01 00:00:00  Product_0848   \n",
       "...          ...                ...                  ...           ...   \n",
       "44456  USER_0035  Transaction_20090  2019-10-31 00:00:00  Product_0989   \n",
       "44457  USER_0035  Transaction_20091  2019-10-31 00:00:00  Product_0981   \n",
       "44458  USER_0035  Transaction_20092  2019-10-31 00:00:00  Product_0990   \n",
       "44459  USER_0035  Transaction_20093  2019-10-31 00:00:00  Product_0992   \n",
       "44460  USER_0035  Transaction_20094  2019-10-31 00:00:00  Product_0976   \n",
       "\n",
       "         제품카테고리  수량    평균금액    배송료      쿠폰상태 성별      고객지역  가입기간   월    쿠폰코드  \\\n",
       "0      Nest-USA   1  153.71   6.50      Used  남   Chicago    12   1  ELEC10   \n",
       "1      Nest-USA   1  153.71   6.50      Used  남   Chicago    12   1  ELEC10   \n",
       "2        Office   1    2.05   6.50      Used  남   Chicago    12   1   OFF10   \n",
       "3       Apparel   5   17.53   6.50  Not Used  남   Chicago    12   1  SALE10   \n",
       "4          Bags   1   16.50   6.50      Used  남   Chicago    12   1   AIO10   \n",
       "...         ...  ..     ...    ...       ... ..       ...   ...  ..     ...   \n",
       "44456  Nest-USA   2  149.00   6.00  Not Used  여  New York    26  10  ELEC10   \n",
       "44457  Nest-USA   1  149.00   6.00      Used  여  New York    26  10  ELEC10   \n",
       "44458      Nest   1  199.00  19.99      Used  여  New York    26  10    NE10   \n",
       "44459      Nest   1   99.00   6.00   Clicked  여  New York    26  10    NE10   \n",
       "44460  Nest-USA   5  119.00   6.00      Used  여  New York    26  10  ELEC10   \n",
       "\n",
       "        할인율   GST     고객소비액      매출   고객분류  \n",
       "0      10.0  0.10  158.6729  153.71  VIP고객  \n",
       "1      10.0  0.10  158.6729  153.71  VIP고객  \n",
       "2      10.0  0.10    8.5295    2.05  VIP고객  \n",
       "3       0.0  0.18  109.9270   87.65  VIP고객  \n",
       "4      10.0  0.18   24.0230   16.50  VIP고객  \n",
       "...     ...   ...       ...     ...    ...  \n",
       "44456   0.0  0.10  333.8000  298.00   관심고객  \n",
       "44457  10.0  0.10  153.5100  149.00   관심고객  \n",
       "44458  10.0  0.05  208.0450  199.00   관심고객  \n",
       "44459   0.0  0.05  109.9500   99.00   관심고객  \n",
       "44460  10.0  0.10  595.0500  595.00   관심고객  \n",
       "\n",
       "[44461 rows x 19 columns]"
      ]
     },
     "execution_count": 90,
     "metadata": {},
     "output_type": "execute_result"
    }
   ],
   "source": [
    "joined_df = train_bw[['고객ID',\t'거래ID',\t'거래날짜',\t'제품ID',\t'제품카테고리',\t'수량',\t'평균금액',\t'배송료',\t'쿠폰상태',\t'성별',\t'고객지역',\t'가입기간',\t'월',\t'쿠폰코드',\t'할인율',\t'GST',\t'고객소비액',\t'매출',\t'고객분류']]\n",
    "joined_df"
   ]
  },
  {
   "cell_type": "code",
   "execution_count": 91,
   "id": "07678e61",
   "metadata": {
    "scrolled": true
   },
   "outputs": [
    {
     "data": {
      "text/html": [
       "<div>\n",
       "<style scoped>\n",
       "    .dataframe tbody tr th:only-of-type {\n",
       "        vertical-align: middle;\n",
       "    }\n",
       "\n",
       "    .dataframe tbody tr th {\n",
       "        vertical-align: top;\n",
       "    }\n",
       "\n",
       "    .dataframe thead th {\n",
       "        text-align: right;\n",
       "    }\n",
       "</style>\n",
       "<table border=\"1\" class=\"dataframe\">\n",
       "  <thead>\n",
       "    <tr style=\"text-align: right;\">\n",
       "      <th></th>\n",
       "      <th>rowid</th>\n",
       "      <th>고객분류</th>\n",
       "      <th>매출 비율</th>\n",
       "      <th>Recency</th>\n",
       "      <th>Frequency</th>\n",
       "      <th>Monetary</th>\n",
       "      <th>고객수</th>\n",
       "      <th>매출</th>\n",
       "      <th>고객수 비율</th>\n",
       "    </tr>\n",
       "  </thead>\n",
       "  <tbody>\n",
       "    <tr>\n",
       "      <th>0</th>\n",
       "      <td>1</td>\n",
       "      <td>VIP고객</td>\n",
       "      <td>50.0%</td>\n",
       "      <td>92.0</td>\n",
       "      <td>54.0</td>\n",
       "      <td>10760.0</td>\n",
       "      <td>176</td>\n",
       "      <td>1.893684e+06</td>\n",
       "      <td>14.0%</td>\n",
       "    </tr>\n",
       "    <tr>\n",
       "      <th>1</th>\n",
       "      <td>2</td>\n",
       "      <td>관심고객</td>\n",
       "      <td>10.0%</td>\n",
       "      <td>16.0</td>\n",
       "      <td>14.0</td>\n",
       "      <td>2340.0</td>\n",
       "      <td>156</td>\n",
       "      <td>3.649696e+05</td>\n",
       "      <td>12.0%</td>\n",
       "    </tr>\n",
       "    <tr>\n",
       "      <th>2</th>\n",
       "      <td>3</td>\n",
       "      <td>우수고객</td>\n",
       "      <td>25.0%</td>\n",
       "      <td>128.0</td>\n",
       "      <td>22.0</td>\n",
       "      <td>3522.0</td>\n",
       "      <td>273</td>\n",
       "      <td>9.616270e+05</td>\n",
       "      <td>21.0%</td>\n",
       "    </tr>\n",
       "    <tr>\n",
       "      <th>3</th>\n",
       "      <td>4</td>\n",
       "      <td>이탈고객</td>\n",
       "      <td>1.0%</td>\n",
       "      <td>145.0</td>\n",
       "      <td>2.0</td>\n",
       "      <td>134.0</td>\n",
       "      <td>192</td>\n",
       "      <td>2.581134e+04</td>\n",
       "      <td>15.0%</td>\n",
       "    </tr>\n",
       "    <tr>\n",
       "      <th>4</th>\n",
       "      <td>5</td>\n",
       "      <td>잠재고객</td>\n",
       "      <td>15.0%</td>\n",
       "      <td>151.0</td>\n",
       "      <td>7.0</td>\n",
       "      <td>1113.0</td>\n",
       "      <td>497</td>\n",
       "      <td>5.529877e+05</td>\n",
       "      <td>38.0%</td>\n",
       "    </tr>\n",
       "  </tbody>\n",
       "</table>\n",
       "</div>"
      ],
      "text/plain": [
       "   rowid   고객분류  매출 비율  Recency  Frequency  Monetary  고객수            매출 고객수 비율\n",
       "0      1  VIP고객  50.0%     92.0       54.0   10760.0  176  1.893684e+06  14.0%\n",
       "1      2   관심고객  10.0%     16.0       14.0    2340.0  156  3.649696e+05  12.0%\n",
       "2      3   우수고객  25.0%    128.0       22.0    3522.0  273  9.616270e+05  21.0%\n",
       "3      4   이탈고객   1.0%    145.0        2.0     134.0  192  2.581134e+04  15.0%\n",
       "4      5   잠재고객  15.0%    151.0        7.0    1113.0  497  5.529877e+05  38.0%"
      ]
     },
     "execution_count": 91,
     "metadata": {},
     "output_type": "execute_result"
    }
   ],
   "source": [
    "rfm_clusters_final"
   ]
  },
  {
   "cell_type": "code",
   "execution_count": 92,
   "id": "716bfe57",
   "metadata": {},
   "outputs": [
    {
     "data": {
      "text/html": [
       "<div>\n",
       "<style scoped>\n",
       "    .dataframe tbody tr th:only-of-type {\n",
       "        vertical-align: middle;\n",
       "    }\n",
       "\n",
       "    .dataframe tbody tr th {\n",
       "        vertical-align: top;\n",
       "    }\n",
       "\n",
       "    .dataframe thead th {\n",
       "        text-align: right;\n",
       "    }\n",
       "</style>\n",
       "<table border=\"1\" class=\"dataframe\">\n",
       "  <thead>\n",
       "    <tr style=\"text-align: right;\">\n",
       "      <th></th>\n",
       "      <th>VIP고객</th>\n",
       "      <th>관심고객</th>\n",
       "      <th>우수고객</th>\n",
       "      <th>이탈고객</th>\n",
       "      <th>잠재고객</th>\n",
       "      <th>total</th>\n",
       "      <th>month</th>\n",
       "    </tr>\n",
       "  </thead>\n",
       "  <tbody>\n",
       "    <tr>\n",
       "      <th>0</th>\n",
       "      <td>38</td>\n",
       "      <td>15</td>\n",
       "      <td>51</td>\n",
       "      <td>23</td>\n",
       "      <td>88</td>\n",
       "      <td>215</td>\n",
       "      <td>1</td>\n",
       "    </tr>\n",
       "    <tr>\n",
       "      <th>1</th>\n",
       "      <td>40</td>\n",
       "      <td>7</td>\n",
       "      <td>33</td>\n",
       "      <td>4</td>\n",
       "      <td>25</td>\n",
       "      <td>109</td>\n",
       "      <td>2</td>\n",
       "    </tr>\n",
       "    <tr>\n",
       "      <th>2</th>\n",
       "      <td>46</td>\n",
       "      <td>17</td>\n",
       "      <td>52</td>\n",
       "      <td>18</td>\n",
       "      <td>75</td>\n",
       "      <td>208</td>\n",
       "      <td>3</td>\n",
       "    </tr>\n",
       "    <tr>\n",
       "      <th>3</th>\n",
       "      <td>45</td>\n",
       "      <td>10</td>\n",
       "      <td>49</td>\n",
       "      <td>37</td>\n",
       "      <td>83</td>\n",
       "      <td>224</td>\n",
       "      <td>4</td>\n",
       "    </tr>\n",
       "    <tr>\n",
       "      <th>4</th>\n",
       "      <td>57</td>\n",
       "      <td>16</td>\n",
       "      <td>53</td>\n",
       "      <td>18</td>\n",
       "      <td>56</td>\n",
       "      <td>200</td>\n",
       "      <td>5</td>\n",
       "    </tr>\n",
       "    <tr>\n",
       "      <th>5</th>\n",
       "      <td>39</td>\n",
       "      <td>34</td>\n",
       "      <td>55</td>\n",
       "      <td>23</td>\n",
       "      <td>108</td>\n",
       "      <td>259</td>\n",
       "      <td>6</td>\n",
       "    </tr>\n",
       "    <tr>\n",
       "      <th>6</th>\n",
       "      <td>66</td>\n",
       "      <td>17</td>\n",
       "      <td>48</td>\n",
       "      <td>26</td>\n",
       "      <td>79</td>\n",
       "      <td>236</td>\n",
       "      <td>7</td>\n",
       "    </tr>\n",
       "    <tr>\n",
       "      <th>7</th>\n",
       "      <td>55</td>\n",
       "      <td>36</td>\n",
       "      <td>75</td>\n",
       "      <td>32</td>\n",
       "      <td>102</td>\n",
       "      <td>300</td>\n",
       "      <td>8</td>\n",
       "    </tr>\n",
       "    <tr>\n",
       "      <th>8</th>\n",
       "      <td>46</td>\n",
       "      <td>22</td>\n",
       "      <td>55</td>\n",
       "      <td>25</td>\n",
       "      <td>45</td>\n",
       "      <td>193</td>\n",
       "      <td>9</td>\n",
       "    </tr>\n",
       "    <tr>\n",
       "      <th>9</th>\n",
       "      <td>46</td>\n",
       "      <td>147</td>\n",
       "      <td>5</td>\n",
       "      <td>9</td>\n",
       "      <td>3</td>\n",
       "      <td>210</td>\n",
       "      <td>10</td>\n",
       "    </tr>\n",
       "  </tbody>\n",
       "</table>\n",
       "</div>"
      ],
      "text/plain": [
       "   VIP고객  관심고객  우수고객  이탈고객  잠재고객  total  month\n",
       "0     38    15    51    23    88    215      1\n",
       "1     40     7    33     4    25    109      2\n",
       "2     46    17    52    18    75    208      3\n",
       "3     45    10    49    37    83    224      4\n",
       "4     57    16    53    18    56    200      5\n",
       "5     39    34    55    23   108    259      6\n",
       "6     66    17    48    26    79    236      7\n",
       "7     55    36    75    32   102    300      8\n",
       "8     46    22    55    25    45    193      9\n",
       "9     46   147     5     9     3    210     10"
      ]
     },
     "execution_count": 92,
     "metadata": {},
     "output_type": "execute_result"
    }
   ],
   "source": [
    "monthly_clustered_customers.drop(columns = ['rowid'], inplace = True)\n",
    "monthly_clustered_customers"
   ]
  },
  {
   "cell_type": "code",
   "execution_count": 93,
   "id": "ebc6d9e0",
   "metadata": {},
   "outputs": [
    {
     "data": {
      "text/html": [
       "<div>\n",
       "<style scoped>\n",
       "    .dataframe tbody tr th:only-of-type {\n",
       "        vertical-align: middle;\n",
       "    }\n",
       "\n",
       "    .dataframe tbody tr th {\n",
       "        vertical-align: top;\n",
       "    }\n",
       "\n",
       "    .dataframe thead th {\n",
       "        text-align: right;\n",
       "    }\n",
       "</style>\n",
       "<table border=\"1\" class=\"dataframe\">\n",
       "  <thead>\n",
       "    <tr style=\"text-align: right;\">\n",
       "      <th></th>\n",
       "      <th>VIP고객</th>\n",
       "      <th>관심고객</th>\n",
       "      <th>우수고객</th>\n",
       "      <th>이탈고객</th>\n",
       "      <th>잠재고객</th>\n",
       "      <th>total</th>\n",
       "      <th>month</th>\n",
       "    </tr>\n",
       "  </thead>\n",
       "  <tbody>\n",
       "    <tr>\n",
       "      <th>0</th>\n",
       "      <td>183021.40</td>\n",
       "      <td>14329.45</td>\n",
       "      <td>113535.56</td>\n",
       "      <td>2405.70</td>\n",
       "      <td>90332.47</td>\n",
       "      <td>403624.58</td>\n",
       "      <td>1</td>\n",
       "    </tr>\n",
       "    <tr>\n",
       "      <th>1</th>\n",
       "      <td>194509.39</td>\n",
       "      <td>6784.57</td>\n",
       "      <td>91112.42</td>\n",
       "      <td>656.41</td>\n",
       "      <td>17757.01</td>\n",
       "      <td>310819.80</td>\n",
       "      <td>2</td>\n",
       "    </tr>\n",
       "    <tr>\n",
       "      <th>2</th>\n",
       "      <td>140065.85</td>\n",
       "      <td>12555.43</td>\n",
       "      <td>129320.36</td>\n",
       "      <td>2069.72</td>\n",
       "      <td>65596.73</td>\n",
       "      <td>349608.09</td>\n",
       "      <td>3</td>\n",
       "    </tr>\n",
       "    <tr>\n",
       "      <th>3</th>\n",
       "      <td>244336.96</td>\n",
       "      <td>5226.69</td>\n",
       "      <td>85751.05</td>\n",
       "      <td>3856.01</td>\n",
       "      <td>62447.71</td>\n",
       "      <td>401618.42</td>\n",
       "      <td>4</td>\n",
       "    </tr>\n",
       "    <tr>\n",
       "      <th>4</th>\n",
       "      <td>164944.92</td>\n",
       "      <td>5752.47</td>\n",
       "      <td>94126.46</td>\n",
       "      <td>1551.26</td>\n",
       "      <td>41388.31</td>\n",
       "      <td>307763.42</td>\n",
       "      <td>5</td>\n",
       "    </tr>\n",
       "    <tr>\n",
       "      <th>5</th>\n",
       "      <td>100035.73</td>\n",
       "      <td>22189.31</td>\n",
       "      <td>101776.18</td>\n",
       "      <td>2254.53</td>\n",
       "      <td>94825.63</td>\n",
       "      <td>321081.38</td>\n",
       "      <td>6</td>\n",
       "    </tr>\n",
       "    <tr>\n",
       "      <th>6</th>\n",
       "      <td>229118.62</td>\n",
       "      <td>10562.30</td>\n",
       "      <td>86449.81</td>\n",
       "      <td>2041.08</td>\n",
       "      <td>44466.26</td>\n",
       "      <td>372638.07</td>\n",
       "      <td>7</td>\n",
       "    </tr>\n",
       "    <tr>\n",
       "      <th>7</th>\n",
       "      <td>170884.64</td>\n",
       "      <td>35284.98</td>\n",
       "      <td>120662.06</td>\n",
       "      <td>3329.55</td>\n",
       "      <td>71049.14</td>\n",
       "      <td>401210.37</td>\n",
       "      <td>8</td>\n",
       "    </tr>\n",
       "    <tr>\n",
       "      <th>8</th>\n",
       "      <td>179624.49</td>\n",
       "      <td>30351.64</td>\n",
       "      <td>111262.16</td>\n",
       "      <td>2536.36</td>\n",
       "      <td>36773.75</td>\n",
       "      <td>360548.40</td>\n",
       "      <td>9</td>\n",
       "    </tr>\n",
       "    <tr>\n",
       "      <th>9</th>\n",
       "      <td>196205.87</td>\n",
       "      <td>201722.17</td>\n",
       "      <td>9595.14</td>\n",
       "      <td>878.53</td>\n",
       "      <td>1279.57</td>\n",
       "      <td>409681.28</td>\n",
       "      <td>10</td>\n",
       "    </tr>\n",
       "  </tbody>\n",
       "</table>\n",
       "</div>"
      ],
      "text/plain": [
       "       VIP고객       관심고객       우수고객     이탈고객      잠재고객      total  month\n",
       "0  183021.40   14329.45  113535.56  2405.70  90332.47  403624.58      1\n",
       "1  194509.39    6784.57   91112.42   656.41  17757.01  310819.80      2\n",
       "2  140065.85   12555.43  129320.36  2069.72  65596.73  349608.09      3\n",
       "3  244336.96    5226.69   85751.05  3856.01  62447.71  401618.42      4\n",
       "4  164944.92    5752.47   94126.46  1551.26  41388.31  307763.42      5\n",
       "5  100035.73   22189.31  101776.18  2254.53  94825.63  321081.38      6\n",
       "6  229118.62   10562.30   86449.81  2041.08  44466.26  372638.07      7\n",
       "7  170884.64   35284.98  120662.06  3329.55  71049.14  401210.37      8\n",
       "8  179624.49   30351.64  111262.16  2536.36  36773.75  360548.40      9\n",
       "9  196205.87  201722.17    9595.14   878.53   1279.57  409681.28     10"
      ]
     },
     "execution_count": 93,
     "metadata": {},
     "output_type": "execute_result"
    }
   ],
   "source": [
    "monthly_clustered_monetary.drop(columns = ['rowid'], inplace = True)\n",
    "monthly_clustered_monetary"
   ]
  },
  {
   "cell_type": "code",
   "execution_count": 94,
   "id": "2773e5d1",
   "metadata": {},
   "outputs": [
    {
     "data": {
      "text/html": [
       "<div>\n",
       "<style scoped>\n",
       "    .dataframe tbody tr th:only-of-type {\n",
       "        vertical-align: middle;\n",
       "    }\n",
       "\n",
       "    .dataframe tbody tr th {\n",
       "        vertical-align: top;\n",
       "    }\n",
       "\n",
       "    .dataframe thead th {\n",
       "        text-align: right;\n",
       "    }\n",
       "</style>\n",
       "<table border=\"1\" class=\"dataframe\">\n",
       "  <thead>\n",
       "    <tr style=\"text-align: right;\">\n",
       "      <th></th>\n",
       "      <th>제품카테고리</th>\n",
       "      <th>월</th>\n",
       "      <th>쿠폰상태</th>\n",
       "      <th>매출</th>\n",
       "    </tr>\n",
       "  </thead>\n",
       "  <tbody>\n",
       "    <tr>\n",
       "      <th>0</th>\n",
       "      <td>Accessories</td>\n",
       "      <td>1</td>\n",
       "      <td>Clicked</td>\n",
       "      <td>51.57</td>\n",
       "    </tr>\n",
       "    <tr>\n",
       "      <th>1</th>\n",
       "      <td>Accessories</td>\n",
       "      <td>3</td>\n",
       "      <td>Clicked</td>\n",
       "      <td>59.99</td>\n",
       "    </tr>\n",
       "    <tr>\n",
       "      <th>2</th>\n",
       "      <td>Accessories</td>\n",
       "      <td>4</td>\n",
       "      <td>Clicked</td>\n",
       "      <td>116.97</td>\n",
       "    </tr>\n",
       "    <tr>\n",
       "      <th>3</th>\n",
       "      <td>Accessories</td>\n",
       "      <td>4</td>\n",
       "      <td>Used</td>\n",
       "      <td>49.99</td>\n",
       "    </tr>\n",
       "    <tr>\n",
       "      <th>4</th>\n",
       "      <td>Accessories</td>\n",
       "      <td>5</td>\n",
       "      <td>Clicked</td>\n",
       "      <td>13.59</td>\n",
       "    </tr>\n",
       "    <tr>\n",
       "      <th>...</th>\n",
       "      <td>...</td>\n",
       "      <td>...</td>\n",
       "      <td>...</td>\n",
       "      <td>...</td>\n",
       "    </tr>\n",
       "    <tr>\n",
       "      <th>514</th>\n",
       "      <td>Waze</td>\n",
       "      <td>9</td>\n",
       "      <td>Not Used</td>\n",
       "      <td>76.70</td>\n",
       "    </tr>\n",
       "    <tr>\n",
       "      <th>515</th>\n",
       "      <td>Waze</td>\n",
       "      <td>9</td>\n",
       "      <td>Used</td>\n",
       "      <td>40.69</td>\n",
       "    </tr>\n",
       "    <tr>\n",
       "      <th>516</th>\n",
       "      <td>Waze</td>\n",
       "      <td>10</td>\n",
       "      <td>Clicked</td>\n",
       "      <td>149.14</td>\n",
       "    </tr>\n",
       "    <tr>\n",
       "      <th>517</th>\n",
       "      <td>Waze</td>\n",
       "      <td>10</td>\n",
       "      <td>Not Used</td>\n",
       "      <td>160.44</td>\n",
       "    </tr>\n",
       "    <tr>\n",
       "      <th>518</th>\n",
       "      <td>Waze</td>\n",
       "      <td>10</td>\n",
       "      <td>Used</td>\n",
       "      <td>161.52</td>\n",
       "    </tr>\n",
       "  </tbody>\n",
       "</table>\n",
       "<p>519 rows × 4 columns</p>\n",
       "</div>"
      ],
      "text/plain": [
       "          제품카테고리   월      쿠폰상태      매출\n",
       "0    Accessories   1   Clicked   51.57\n",
       "1    Accessories   3   Clicked   59.99\n",
       "2    Accessories   4   Clicked  116.97\n",
       "3    Accessories   4      Used   49.99\n",
       "4    Accessories   5   Clicked   13.59\n",
       "..           ...  ..       ...     ...\n",
       "514         Waze   9  Not Used   76.70\n",
       "515         Waze   9      Used   40.69\n",
       "516         Waze  10   Clicked  149.14\n",
       "517         Waze  10  Not Used  160.44\n",
       "518         Waze  10      Used  161.52\n",
       "\n",
       "[519 rows x 4 columns]"
      ]
     },
     "execution_count": 94,
     "metadata": {},
     "output_type": "execute_result"
    }
   ],
   "source": [
    "grouped_df.drop(columns = ['rowid'], inplace = True)\n",
    "df = grouped_df\n",
    "df"
   ]
  },
  {
   "cell_type": "code",
   "execution_count": 95,
   "id": "8c3f4dd9",
   "metadata": {},
   "outputs": [
    {
     "data": {
      "text/html": [
       "<div>\n",
       "<style scoped>\n",
       "    .dataframe tbody tr th:only-of-type {\n",
       "        vertical-align: middle;\n",
       "    }\n",
       "\n",
       "    .dataframe tbody tr th {\n",
       "        vertical-align: top;\n",
       "    }\n",
       "\n",
       "    .dataframe thead th {\n",
       "        text-align: right;\n",
       "    }\n",
       "</style>\n",
       "<table border=\"1\" class=\"dataframe\">\n",
       "  <thead>\n",
       "    <tr style=\"text-align: right;\">\n",
       "      <th></th>\n",
       "      <th>쿠폰코드</th>\n",
       "      <th>고객분류</th>\n",
       "      <th>제품카테고리</th>\n",
       "      <th>매출</th>\n",
       "    </tr>\n",
       "  </thead>\n",
       "  <tbody>\n",
       "    <tr>\n",
       "      <th>0</th>\n",
       "      <td>ACC10</td>\n",
       "      <td>VIP고객</td>\n",
       "      <td>Accessories</td>\n",
       "      <td>2409.87</td>\n",
       "    </tr>\n",
       "    <tr>\n",
       "      <th>1</th>\n",
       "      <td>ACC10</td>\n",
       "      <td>관심고객</td>\n",
       "      <td>Accessories</td>\n",
       "      <td>284.08</td>\n",
       "    </tr>\n",
       "    <tr>\n",
       "      <th>2</th>\n",
       "      <td>ACC10</td>\n",
       "      <td>우수고객</td>\n",
       "      <td>Accessories</td>\n",
       "      <td>161.55</td>\n",
       "    </tr>\n",
       "    <tr>\n",
       "      <th>3</th>\n",
       "      <td>ACC10</td>\n",
       "      <td>잠재고객</td>\n",
       "      <td>Accessories</td>\n",
       "      <td>30.58</td>\n",
       "    </tr>\n",
       "    <tr>\n",
       "      <th>4</th>\n",
       "      <td>ACC20</td>\n",
       "      <td>VIP고객</td>\n",
       "      <td>Accessories</td>\n",
       "      <td>272.49</td>\n",
       "    </tr>\n",
       "    <tr>\n",
       "      <th>...</th>\n",
       "      <td>...</td>\n",
       "      <td>...</td>\n",
       "      <td>...</td>\n",
       "      <td>...</td>\n",
       "    </tr>\n",
       "    <tr>\n",
       "      <th>237</th>\n",
       "      <td>unknown</td>\n",
       "      <td>잠재고객</td>\n",
       "      <td>More Bags</td>\n",
       "      <td>160.52</td>\n",
       "    </tr>\n",
       "    <tr>\n",
       "      <th>238</th>\n",
       "      <td>unknown</td>\n",
       "      <td>관심고객</td>\n",
       "      <td>Google</td>\n",
       "      <td>144.93</td>\n",
       "    </tr>\n",
       "    <tr>\n",
       "      <th>239</th>\n",
       "      <td>unknown</td>\n",
       "      <td>이탈고객</td>\n",
       "      <td>More Bags</td>\n",
       "      <td>87.96</td>\n",
       "    </tr>\n",
       "    <tr>\n",
       "      <th>240</th>\n",
       "      <td>unknown</td>\n",
       "      <td>이탈고객</td>\n",
       "      <td>Backpacks</td>\n",
       "      <td>79.99</td>\n",
       "    </tr>\n",
       "    <tr>\n",
       "      <th>241</th>\n",
       "      <td>unknown</td>\n",
       "      <td>이탈고객</td>\n",
       "      <td>Fun</td>\n",
       "      <td>12.59</td>\n",
       "    </tr>\n",
       "  </tbody>\n",
       "</table>\n",
       "<p>242 rows × 4 columns</p>\n",
       "</div>"
      ],
      "text/plain": [
       "        쿠폰코드   고객분류       제품카테고리       매출\n",
       "0      ACC10  VIP고객  Accessories  2409.87\n",
       "1      ACC10   관심고객  Accessories   284.08\n",
       "2      ACC10   우수고객  Accessories   161.55\n",
       "3      ACC10   잠재고객  Accessories    30.58\n",
       "4      ACC20  VIP고객  Accessories   272.49\n",
       "..       ...    ...          ...      ...\n",
       "237  unknown   잠재고객    More Bags   160.52\n",
       "238  unknown   관심고객       Google   144.93\n",
       "239  unknown   이탈고객    More Bags    87.96\n",
       "240  unknown   이탈고객    Backpacks    79.99\n",
       "241  unknown   이탈고객          Fun    12.59\n",
       "\n",
       "[242 rows x 4 columns]"
      ]
     },
     "execution_count": 95,
     "metadata": {},
     "output_type": "execute_result"
    }
   ],
   "source": [
    "coupon_sales.drop(columns = ['rowid'], inplace = True)\n",
    "coupon_sales"
   ]
  },
  {
   "cell_type": "code",
   "execution_count": 96,
   "id": "56962dba",
   "metadata": {},
   "outputs": [
    {
     "data": {
      "text/html": [
       "<div>\n",
       "<style scoped>\n",
       "    .dataframe tbody tr th:only-of-type {\n",
       "        vertical-align: middle;\n",
       "    }\n",
       "\n",
       "    .dataframe tbody tr th {\n",
       "        vertical-align: top;\n",
       "    }\n",
       "\n",
       "    .dataframe thead th {\n",
       "        text-align: right;\n",
       "    }\n",
       "</style>\n",
       "<table border=\"1\" class=\"dataframe\">\n",
       "  <thead>\n",
       "    <tr style=\"text-align: right;\">\n",
       "      <th></th>\n",
       "      <th>rowid</th>\n",
       "      <th>고객분류</th>\n",
       "      <th>매출 비율</th>\n",
       "      <th>Recency</th>\n",
       "      <th>Frequency</th>\n",
       "      <th>Monetary</th>\n",
       "      <th>고객수</th>\n",
       "      <th>매출</th>\n",
       "      <th>고객수 비율</th>\n",
       "    </tr>\n",
       "  </thead>\n",
       "  <tbody>\n",
       "    <tr>\n",
       "      <th>0</th>\n",
       "      <td>1</td>\n",
       "      <td>VIP고객</td>\n",
       "      <td>50.0%</td>\n",
       "      <td>92.0</td>\n",
       "      <td>54.0</td>\n",
       "      <td>10760.0</td>\n",
       "      <td>176</td>\n",
       "      <td>1.893684e+06</td>\n",
       "      <td>14.0%</td>\n",
       "    </tr>\n",
       "    <tr>\n",
       "      <th>1</th>\n",
       "      <td>2</td>\n",
       "      <td>관심고객</td>\n",
       "      <td>10.0%</td>\n",
       "      <td>16.0</td>\n",
       "      <td>14.0</td>\n",
       "      <td>2340.0</td>\n",
       "      <td>156</td>\n",
       "      <td>3.649696e+05</td>\n",
       "      <td>12.0%</td>\n",
       "    </tr>\n",
       "    <tr>\n",
       "      <th>2</th>\n",
       "      <td>3</td>\n",
       "      <td>우수고객</td>\n",
       "      <td>25.0%</td>\n",
       "      <td>128.0</td>\n",
       "      <td>22.0</td>\n",
       "      <td>3522.0</td>\n",
       "      <td>273</td>\n",
       "      <td>9.616270e+05</td>\n",
       "      <td>21.0%</td>\n",
       "    </tr>\n",
       "    <tr>\n",
       "      <th>3</th>\n",
       "      <td>4</td>\n",
       "      <td>이탈고객</td>\n",
       "      <td>1.0%</td>\n",
       "      <td>145.0</td>\n",
       "      <td>2.0</td>\n",
       "      <td>134.0</td>\n",
       "      <td>192</td>\n",
       "      <td>2.581134e+04</td>\n",
       "      <td>15.0%</td>\n",
       "    </tr>\n",
       "    <tr>\n",
       "      <th>4</th>\n",
       "      <td>5</td>\n",
       "      <td>잠재고객</td>\n",
       "      <td>15.0%</td>\n",
       "      <td>151.0</td>\n",
       "      <td>7.0</td>\n",
       "      <td>1113.0</td>\n",
       "      <td>497</td>\n",
       "      <td>5.529877e+05</td>\n",
       "      <td>38.0%</td>\n",
       "    </tr>\n",
       "  </tbody>\n",
       "</table>\n",
       "</div>"
      ],
      "text/plain": [
       "   rowid   고객분류  매출 비율  Recency  Frequency  Monetary  고객수            매출 고객수 비율\n",
       "0      1  VIP고객  50.0%     92.0       54.0   10760.0  176  1.893684e+06  14.0%\n",
       "1      2   관심고객  10.0%     16.0       14.0    2340.0  156  3.649696e+05  12.0%\n",
       "2      3   우수고객  25.0%    128.0       22.0    3522.0  273  9.616270e+05  21.0%\n",
       "3      4   이탈고객   1.0%    145.0        2.0     134.0  192  2.581134e+04  15.0%\n",
       "4      5   잠재고객  15.0%    151.0        7.0    1113.0  497  5.529877e+05  38.0%"
      ]
     },
     "execution_count": 96,
     "metadata": {},
     "output_type": "execute_result"
    }
   ],
   "source": [
    "rfm_clusters_final"
   ]
  },
  {
   "cell_type": "code",
   "execution_count": 97,
   "id": "0ac6a4fd",
   "metadata": {},
   "outputs": [
    {
     "data": {
      "application/vnd.plotly.v1+json": {
       "config": {
        "plotlyServerURL": "https://plot.ly"
       },
       "data": [
        {
         "customdata": [
          [
           "14.0%"
          ],
          [
           "21.0%"
          ],
          [
           "12.0%"
          ],
          [
           "38.0%"
          ],
          [
           "15.0%"
          ]
         ],
         "direction": "clockwise",
         "domain": {
          "x": [
           0,
           1
          ],
          "y": [
           0,
           1
          ]
         },
         "hole": 0.5,
         "hovertemplate": "고객분류=%{label}<br>고객수=%{value}<br>고객수 비율=%{customdata[0]}<",
         "labels": [
          "VIP고객",
          "우수고객",
          "관심고객",
          "잠재고객",
          "이탈고객"
         ],
         "legendgroup": "",
         "name": "",
         "showlegend": true,
         "sort": false,
         "type": "pie",
         "values": [
          176,
          273,
          156,
          497,
          192
         ]
        }
       ],
       "layout": {
        "legend": {
         "orientation": "v",
         "tracegroupgap": 0,
         "x": -1,
         "y": 1.1
        },
        "piecolorway": [
         "#636EFA",
         "#EF553B",
         "#00CC96",
         "#AB63FA",
         "#FFA15A",
         "#19D3F3",
         "#FF6692",
         "#B6E880",
         "#FF97FF",
         "#FECB52"
        ],
        "template": {
         "data": {
          "bar": [
           {
            "error_x": {
             "color": "#2a3f5f"
            },
            "error_y": {
             "color": "#2a3f5f"
            },
            "marker": {
             "line": {
              "color": "white",
              "width": 0.5
             },
             "pattern": {
              "fillmode": "overlay",
              "size": 10,
              "solidity": 0.2
             }
            },
            "type": "bar"
           }
          ],
          "barpolar": [
           {
            "marker": {
             "line": {
              "color": "white",
              "width": 0.5
             },
             "pattern": {
              "fillmode": "overlay",
              "size": 10,
              "solidity": 0.2
             }
            },
            "type": "barpolar"
           }
          ],
          "carpet": [
           {
            "aaxis": {
             "endlinecolor": "#2a3f5f",
             "gridcolor": "#C8D4E3",
             "linecolor": "#C8D4E3",
             "minorgridcolor": "#C8D4E3",
             "startlinecolor": "#2a3f5f"
            },
            "baxis": {
             "endlinecolor": "#2a3f5f",
             "gridcolor": "#C8D4E3",
             "linecolor": "#C8D4E3",
             "minorgridcolor": "#C8D4E3",
             "startlinecolor": "#2a3f5f"
            },
            "type": "carpet"
           }
          ],
          "choropleth": [
           {
            "colorbar": {
             "outlinewidth": 0,
             "ticks": ""
            },
            "type": "choropleth"
           }
          ],
          "contour": [
           {
            "colorbar": {
             "outlinewidth": 0,
             "ticks": ""
            },
            "colorscale": [
             [
              0,
              "#0d0887"
             ],
             [
              0.1111111111111111,
              "#46039f"
             ],
             [
              0.2222222222222222,
              "#7201a8"
             ],
             [
              0.3333333333333333,
              "#9c179e"
             ],
             [
              0.4444444444444444,
              "#bd3786"
             ],
             [
              0.5555555555555556,
              "#d8576b"
             ],
             [
              0.6666666666666666,
              "#ed7953"
             ],
             [
              0.7777777777777778,
              "#fb9f3a"
             ],
             [
              0.8888888888888888,
              "#fdca26"
             ],
             [
              1,
              "#f0f921"
             ]
            ],
            "type": "contour"
           }
          ],
          "contourcarpet": [
           {
            "colorbar": {
             "outlinewidth": 0,
             "ticks": ""
            },
            "type": "contourcarpet"
           }
          ],
          "heatmap": [
           {
            "colorbar": {
             "outlinewidth": 0,
             "ticks": ""
            },
            "colorscale": [
             [
              0,
              "#0d0887"
             ],
             [
              0.1111111111111111,
              "#46039f"
             ],
             [
              0.2222222222222222,
              "#7201a8"
             ],
             [
              0.3333333333333333,
              "#9c179e"
             ],
             [
              0.4444444444444444,
              "#bd3786"
             ],
             [
              0.5555555555555556,
              "#d8576b"
             ],
             [
              0.6666666666666666,
              "#ed7953"
             ],
             [
              0.7777777777777778,
              "#fb9f3a"
             ],
             [
              0.8888888888888888,
              "#fdca26"
             ],
             [
              1,
              "#f0f921"
             ]
            ],
            "type": "heatmap"
           }
          ],
          "heatmapgl": [
           {
            "colorbar": {
             "outlinewidth": 0,
             "ticks": ""
            },
            "colorscale": [
             [
              0,
              "#0d0887"
             ],
             [
              0.1111111111111111,
              "#46039f"
             ],
             [
              0.2222222222222222,
              "#7201a8"
             ],
             [
              0.3333333333333333,
              "#9c179e"
             ],
             [
              0.4444444444444444,
              "#bd3786"
             ],
             [
              0.5555555555555556,
              "#d8576b"
             ],
             [
              0.6666666666666666,
              "#ed7953"
             ],
             [
              0.7777777777777778,
              "#fb9f3a"
             ],
             [
              0.8888888888888888,
              "#fdca26"
             ],
             [
              1,
              "#f0f921"
             ]
            ],
            "type": "heatmapgl"
           }
          ],
          "histogram": [
           {
            "marker": {
             "pattern": {
              "fillmode": "overlay",
              "size": 10,
              "solidity": 0.2
             }
            },
            "type": "histogram"
           }
          ],
          "histogram2d": [
           {
            "colorbar": {
             "outlinewidth": 0,
             "ticks": ""
            },
            "colorscale": [
             [
              0,
              "#0d0887"
             ],
             [
              0.1111111111111111,
              "#46039f"
             ],
             [
              0.2222222222222222,
              "#7201a8"
             ],
             [
              0.3333333333333333,
              "#9c179e"
             ],
             [
              0.4444444444444444,
              "#bd3786"
             ],
             [
              0.5555555555555556,
              "#d8576b"
             ],
             [
              0.6666666666666666,
              "#ed7953"
             ],
             [
              0.7777777777777778,
              "#fb9f3a"
             ],
             [
              0.8888888888888888,
              "#fdca26"
             ],
             [
              1,
              "#f0f921"
             ]
            ],
            "type": "histogram2d"
           }
          ],
          "histogram2dcontour": [
           {
            "colorbar": {
             "outlinewidth": 0,
             "ticks": ""
            },
            "colorscale": [
             [
              0,
              "#0d0887"
             ],
             [
              0.1111111111111111,
              "#46039f"
             ],
             [
              0.2222222222222222,
              "#7201a8"
             ],
             [
              0.3333333333333333,
              "#9c179e"
             ],
             [
              0.4444444444444444,
              "#bd3786"
             ],
             [
              0.5555555555555556,
              "#d8576b"
             ],
             [
              0.6666666666666666,
              "#ed7953"
             ],
             [
              0.7777777777777778,
              "#fb9f3a"
             ],
             [
              0.8888888888888888,
              "#fdca26"
             ],
             [
              1,
              "#f0f921"
             ]
            ],
            "type": "histogram2dcontour"
           }
          ],
          "mesh3d": [
           {
            "colorbar": {
             "outlinewidth": 0,
             "ticks": ""
            },
            "type": "mesh3d"
           }
          ],
          "parcoords": [
           {
            "line": {
             "colorbar": {
              "outlinewidth": 0,
              "ticks": ""
             }
            },
            "type": "parcoords"
           }
          ],
          "pie": [
           {
            "automargin": true,
            "type": "pie"
           }
          ],
          "scatter": [
           {
            "fillpattern": {
             "fillmode": "overlay",
             "size": 10,
             "solidity": 0.2
            },
            "type": "scatter"
           }
          ],
          "scatter3d": [
           {
            "line": {
             "colorbar": {
              "outlinewidth": 0,
              "ticks": ""
             }
            },
            "marker": {
             "colorbar": {
              "outlinewidth": 0,
              "ticks": ""
             }
            },
            "type": "scatter3d"
           }
          ],
          "scattercarpet": [
           {
            "marker": {
             "colorbar": {
              "outlinewidth": 0,
              "ticks": ""
             }
            },
            "type": "scattercarpet"
           }
          ],
          "scattergeo": [
           {
            "marker": {
             "colorbar": {
              "outlinewidth": 0,
              "ticks": ""
             }
            },
            "type": "scattergeo"
           }
          ],
          "scattergl": [
           {
            "marker": {
             "colorbar": {
              "outlinewidth": 0,
              "ticks": ""
             }
            },
            "type": "scattergl"
           }
          ],
          "scattermapbox": [
           {
            "marker": {
             "colorbar": {
              "outlinewidth": 0,
              "ticks": ""
             }
            },
            "type": "scattermapbox"
           }
          ],
          "scatterpolar": [
           {
            "marker": {
             "colorbar": {
              "outlinewidth": 0,
              "ticks": ""
             }
            },
            "type": "scatterpolar"
           }
          ],
          "scatterpolargl": [
           {
            "marker": {
             "colorbar": {
              "outlinewidth": 0,
              "ticks": ""
             }
            },
            "type": "scatterpolargl"
           }
          ],
          "scatterternary": [
           {
            "marker": {
             "colorbar": {
              "outlinewidth": 0,
              "ticks": ""
             }
            },
            "type": "scatterternary"
           }
          ],
          "surface": [
           {
            "colorbar": {
             "outlinewidth": 0,
             "ticks": ""
            },
            "colorscale": [
             [
              0,
              "#0d0887"
             ],
             [
              0.1111111111111111,
              "#46039f"
             ],
             [
              0.2222222222222222,
              "#7201a8"
             ],
             [
              0.3333333333333333,
              "#9c179e"
             ],
             [
              0.4444444444444444,
              "#bd3786"
             ],
             [
              0.5555555555555556,
              "#d8576b"
             ],
             [
              0.6666666666666666,
              "#ed7953"
             ],
             [
              0.7777777777777778,
              "#fb9f3a"
             ],
             [
              0.8888888888888888,
              "#fdca26"
             ],
             [
              1,
              "#f0f921"
             ]
            ],
            "type": "surface"
           }
          ],
          "table": [
           {
            "cells": {
             "fill": {
              "color": "#EBF0F8"
             },
             "line": {
              "color": "white"
             }
            },
            "header": {
             "fill": {
              "color": "#C8D4E3"
             },
             "line": {
              "color": "white"
             }
            },
            "type": "table"
           }
          ]
         },
         "layout": {
          "annotationdefaults": {
           "arrowcolor": "#2a3f5f",
           "arrowhead": 0,
           "arrowwidth": 1
          },
          "autotypenumbers": "strict",
          "coloraxis": {
           "colorbar": {
            "outlinewidth": 0,
            "ticks": ""
           }
          },
          "colorscale": {
           "diverging": [
            [
             0,
             "#8e0152"
            ],
            [
             0.1,
             "#c51b7d"
            ],
            [
             0.2,
             "#de77ae"
            ],
            [
             0.3,
             "#f1b6da"
            ],
            [
             0.4,
             "#fde0ef"
            ],
            [
             0.5,
             "#f7f7f7"
            ],
            [
             0.6,
             "#e6f5d0"
            ],
            [
             0.7,
             "#b8e186"
            ],
            [
             0.8,
             "#7fbc41"
            ],
            [
             0.9,
             "#4d9221"
            ],
            [
             1,
             "#276419"
            ]
           ],
           "sequential": [
            [
             0,
             "#0d0887"
            ],
            [
             0.1111111111111111,
             "#46039f"
            ],
            [
             0.2222222222222222,
             "#7201a8"
            ],
            [
             0.3333333333333333,
             "#9c179e"
            ],
            [
             0.4444444444444444,
             "#bd3786"
            ],
            [
             0.5555555555555556,
             "#d8576b"
            ],
            [
             0.6666666666666666,
             "#ed7953"
            ],
            [
             0.7777777777777778,
             "#fb9f3a"
            ],
            [
             0.8888888888888888,
             "#fdca26"
            ],
            [
             1,
             "#f0f921"
            ]
           ],
           "sequentialminus": [
            [
             0,
             "#0d0887"
            ],
            [
             0.1111111111111111,
             "#46039f"
            ],
            [
             0.2222222222222222,
             "#7201a8"
            ],
            [
             0.3333333333333333,
             "#9c179e"
            ],
            [
             0.4444444444444444,
             "#bd3786"
            ],
            [
             0.5555555555555556,
             "#d8576b"
            ],
            [
             0.6666666666666666,
             "#ed7953"
            ],
            [
             0.7777777777777778,
             "#fb9f3a"
            ],
            [
             0.8888888888888888,
             "#fdca26"
            ],
            [
             1,
             "#f0f921"
            ]
           ]
          },
          "colorway": [
           "#636efa",
           "#EF553B",
           "#00cc96",
           "#ab63fa",
           "#FFA15A",
           "#19d3f3",
           "#FF6692",
           "#B6E880",
           "#FF97FF",
           "#FECB52"
          ],
          "font": {
           "color": "#2a3f5f"
          },
          "geo": {
           "bgcolor": "white",
           "lakecolor": "white",
           "landcolor": "white",
           "showlakes": true,
           "showland": true,
           "subunitcolor": "#C8D4E3"
          },
          "hoverlabel": {
           "align": "left"
          },
          "hovermode": "closest",
          "mapbox": {
           "style": "light"
          },
          "paper_bgcolor": "white",
          "plot_bgcolor": "white",
          "polar": {
           "angularaxis": {
            "gridcolor": "#EBF0F8",
            "linecolor": "#EBF0F8",
            "ticks": ""
           },
           "bgcolor": "white",
           "radialaxis": {
            "gridcolor": "#EBF0F8",
            "linecolor": "#EBF0F8",
            "ticks": ""
           }
          },
          "scene": {
           "xaxis": {
            "backgroundcolor": "white",
            "gridcolor": "#DFE8F3",
            "gridwidth": 2,
            "linecolor": "#EBF0F8",
            "showbackground": true,
            "ticks": "",
            "zerolinecolor": "#EBF0F8"
           },
           "yaxis": {
            "backgroundcolor": "white",
            "gridcolor": "#DFE8F3",
            "gridwidth": 2,
            "linecolor": "#EBF0F8",
            "showbackground": true,
            "ticks": "",
            "zerolinecolor": "#EBF0F8"
           },
           "zaxis": {
            "backgroundcolor": "white",
            "gridcolor": "#DFE8F3",
            "gridwidth": 2,
            "linecolor": "#EBF0F8",
            "showbackground": true,
            "ticks": "",
            "zerolinecolor": "#EBF0F8"
           }
          },
          "shapedefaults": {
           "line": {
            "color": "#2a3f5f"
           }
          },
          "ternary": {
           "aaxis": {
            "gridcolor": "#DFE8F3",
            "linecolor": "#A2B1C6",
            "ticks": ""
           },
           "baxis": {
            "gridcolor": "#DFE8F3",
            "linecolor": "#A2B1C6",
            "ticks": ""
           },
           "bgcolor": "white",
           "caxis": {
            "gridcolor": "#DFE8F3",
            "linecolor": "#A2B1C6",
            "ticks": ""
           }
          },
          "title": {
           "x": 0.05
          },
          "xaxis": {
           "automargin": true,
           "gridcolor": "#EBF0F8",
           "linecolor": "#EBF0F8",
           "ticks": "",
           "title": {
            "standoff": 15
           },
           "zerolinecolor": "#EBF0F8",
           "zerolinewidth": 2
          },
          "yaxis": {
           "automargin": true,
           "gridcolor": "#EBF0F8",
           "linecolor": "#EBF0F8",
           "ticks": "",
           "title": {
            "standoff": 15
           },
           "zerolinecolor": "#EBF0F8",
           "zerolinewidth": 2
          }
         }
        },
        "title": {
         "text": "고객비율"
        },
        "yaxis": {
         "showticklabels": false,
         "title": {
          "text": ""
         }
        }
       }
      }
     },
     "metadata": {},
     "output_type": "display_data"
    }
   ],
   "source": [
    "def donut_chart1():\n",
    "    custom_sort = {'VIP고객': 0, '우수고객': 1, '관심고객': 2, '잠재고객': 3, '이탈고객': 4}\n",
    "    sorted_categories = sorted(rfm_clusters_final['고객분류'], key=lambda x: custom_sort[x])\n",
    "\n",
    "    fig = px.pie(\n",
    "        rfm_clusters_final,\n",
    "        title=\"고객비율\",\n",
    "        values=\"고객수\",\n",
    "        names=\"고객분류\",\n",
    "        template=\"plotly_white\",\n",
    "        hover_data=[\"고객수 비율\"],\n",
    "        color_discrete_sequence=px.colors.qualitative.Plotly,  \n",
    "        category_orders={\"고객분류\": sorted_categories},  \n",
    "        hole=0.5  # 도넛의 중앙 뚫림을 나타내는 비율 (0~1)\n",
    "    )\n",
    "\n",
    "    fig.update_layout(legend=dict(x=-1, y=1.1), legend_orientation=\"v\")\n",
    "    fig.update_yaxes(title=\"\", showticklabels=False)\n",
    "    fig.data[0][\"hovertemplate\"] = fig.data[0][\"hovertemplate\"][:-14]\n",
    "    return fig\n",
    "\n",
    "fig = donut_chart1()\n",
    "fig.show()"
   ]
  },
  {
   "cell_type": "code",
   "execution_count": 98,
   "id": "2599aa8c",
   "metadata": {
    "scrolled": true
   },
   "outputs": [
    {
     "data": {
      "application/vnd.plotly.v1+json": {
       "config": {
        "plotlyServerURL": "https://plot.ly"
       },
       "data": [
        {
         "customdata": [
          [
           "50.0%"
          ],
          [
           "25.0%"
          ],
          [
           "10.0%"
          ],
          [
           "15.0%"
          ],
          [
           "1.0%"
          ]
         ],
         "direction": "clockwise",
         "domain": {
          "x": [
           0,
           1
          ],
          "y": [
           0,
           1
          ]
         },
         "hole": 0.5,
         "hovertemplate": "고객분류=%{label}<br>매출=%{value}<br>매출 비율=%{customdata[0]}<",
         "labels": [
          "VIP고객",
          "우수고객",
          "관심고객",
          "잠재고객",
          "이탈고객"
         ],
         "legendgroup": "",
         "name": "",
         "showlegend": true,
         "sort": false,
         "type": "pie",
         "values": [
          1893683.7145500001,
          961626.9803,
          364969.58690000005,
          552987.74934,
          25811.34467
         ]
        }
       ],
       "layout": {
        "legend": {
         "orientation": "v",
         "tracegroupgap": 0,
         "x": -1,
         "y": 1.1
        },
        "piecolorway": [
         "#636EFA",
         "#EF553B",
         "#00CC96",
         "#AB63FA",
         "#FFA15A",
         "#19D3F3",
         "#FF6692",
         "#B6E880",
         "#FF97FF",
         "#FECB52"
        ],
        "template": {
         "data": {
          "bar": [
           {
            "error_x": {
             "color": "#2a3f5f"
            },
            "error_y": {
             "color": "#2a3f5f"
            },
            "marker": {
             "line": {
              "color": "white",
              "width": 0.5
             },
             "pattern": {
              "fillmode": "overlay",
              "size": 10,
              "solidity": 0.2
             }
            },
            "type": "bar"
           }
          ],
          "barpolar": [
           {
            "marker": {
             "line": {
              "color": "white",
              "width": 0.5
             },
             "pattern": {
              "fillmode": "overlay",
              "size": 10,
              "solidity": 0.2
             }
            },
            "type": "barpolar"
           }
          ],
          "carpet": [
           {
            "aaxis": {
             "endlinecolor": "#2a3f5f",
             "gridcolor": "#C8D4E3",
             "linecolor": "#C8D4E3",
             "minorgridcolor": "#C8D4E3",
             "startlinecolor": "#2a3f5f"
            },
            "baxis": {
             "endlinecolor": "#2a3f5f",
             "gridcolor": "#C8D4E3",
             "linecolor": "#C8D4E3",
             "minorgridcolor": "#C8D4E3",
             "startlinecolor": "#2a3f5f"
            },
            "type": "carpet"
           }
          ],
          "choropleth": [
           {
            "colorbar": {
             "outlinewidth": 0,
             "ticks": ""
            },
            "type": "choropleth"
           }
          ],
          "contour": [
           {
            "colorbar": {
             "outlinewidth": 0,
             "ticks": ""
            },
            "colorscale": [
             [
              0,
              "#0d0887"
             ],
             [
              0.1111111111111111,
              "#46039f"
             ],
             [
              0.2222222222222222,
              "#7201a8"
             ],
             [
              0.3333333333333333,
              "#9c179e"
             ],
             [
              0.4444444444444444,
              "#bd3786"
             ],
             [
              0.5555555555555556,
              "#d8576b"
             ],
             [
              0.6666666666666666,
              "#ed7953"
             ],
             [
              0.7777777777777778,
              "#fb9f3a"
             ],
             [
              0.8888888888888888,
              "#fdca26"
             ],
             [
              1,
              "#f0f921"
             ]
            ],
            "type": "contour"
           }
          ],
          "contourcarpet": [
           {
            "colorbar": {
             "outlinewidth": 0,
             "ticks": ""
            },
            "type": "contourcarpet"
           }
          ],
          "heatmap": [
           {
            "colorbar": {
             "outlinewidth": 0,
             "ticks": ""
            },
            "colorscale": [
             [
              0,
              "#0d0887"
             ],
             [
              0.1111111111111111,
              "#46039f"
             ],
             [
              0.2222222222222222,
              "#7201a8"
             ],
             [
              0.3333333333333333,
              "#9c179e"
             ],
             [
              0.4444444444444444,
              "#bd3786"
             ],
             [
              0.5555555555555556,
              "#d8576b"
             ],
             [
              0.6666666666666666,
              "#ed7953"
             ],
             [
              0.7777777777777778,
              "#fb9f3a"
             ],
             [
              0.8888888888888888,
              "#fdca26"
             ],
             [
              1,
              "#f0f921"
             ]
            ],
            "type": "heatmap"
           }
          ],
          "heatmapgl": [
           {
            "colorbar": {
             "outlinewidth": 0,
             "ticks": ""
            },
            "colorscale": [
             [
              0,
              "#0d0887"
             ],
             [
              0.1111111111111111,
              "#46039f"
             ],
             [
              0.2222222222222222,
              "#7201a8"
             ],
             [
              0.3333333333333333,
              "#9c179e"
             ],
             [
              0.4444444444444444,
              "#bd3786"
             ],
             [
              0.5555555555555556,
              "#d8576b"
             ],
             [
              0.6666666666666666,
              "#ed7953"
             ],
             [
              0.7777777777777778,
              "#fb9f3a"
             ],
             [
              0.8888888888888888,
              "#fdca26"
             ],
             [
              1,
              "#f0f921"
             ]
            ],
            "type": "heatmapgl"
           }
          ],
          "histogram": [
           {
            "marker": {
             "pattern": {
              "fillmode": "overlay",
              "size": 10,
              "solidity": 0.2
             }
            },
            "type": "histogram"
           }
          ],
          "histogram2d": [
           {
            "colorbar": {
             "outlinewidth": 0,
             "ticks": ""
            },
            "colorscale": [
             [
              0,
              "#0d0887"
             ],
             [
              0.1111111111111111,
              "#46039f"
             ],
             [
              0.2222222222222222,
              "#7201a8"
             ],
             [
              0.3333333333333333,
              "#9c179e"
             ],
             [
              0.4444444444444444,
              "#bd3786"
             ],
             [
              0.5555555555555556,
              "#d8576b"
             ],
             [
              0.6666666666666666,
              "#ed7953"
             ],
             [
              0.7777777777777778,
              "#fb9f3a"
             ],
             [
              0.8888888888888888,
              "#fdca26"
             ],
             [
              1,
              "#f0f921"
             ]
            ],
            "type": "histogram2d"
           }
          ],
          "histogram2dcontour": [
           {
            "colorbar": {
             "outlinewidth": 0,
             "ticks": ""
            },
            "colorscale": [
             [
              0,
              "#0d0887"
             ],
             [
              0.1111111111111111,
              "#46039f"
             ],
             [
              0.2222222222222222,
              "#7201a8"
             ],
             [
              0.3333333333333333,
              "#9c179e"
             ],
             [
              0.4444444444444444,
              "#bd3786"
             ],
             [
              0.5555555555555556,
              "#d8576b"
             ],
             [
              0.6666666666666666,
              "#ed7953"
             ],
             [
              0.7777777777777778,
              "#fb9f3a"
             ],
             [
              0.8888888888888888,
              "#fdca26"
             ],
             [
              1,
              "#f0f921"
             ]
            ],
            "type": "histogram2dcontour"
           }
          ],
          "mesh3d": [
           {
            "colorbar": {
             "outlinewidth": 0,
             "ticks": ""
            },
            "type": "mesh3d"
           }
          ],
          "parcoords": [
           {
            "line": {
             "colorbar": {
              "outlinewidth": 0,
              "ticks": ""
             }
            },
            "type": "parcoords"
           }
          ],
          "pie": [
           {
            "automargin": true,
            "type": "pie"
           }
          ],
          "scatter": [
           {
            "fillpattern": {
             "fillmode": "overlay",
             "size": 10,
             "solidity": 0.2
            },
            "type": "scatter"
           }
          ],
          "scatter3d": [
           {
            "line": {
             "colorbar": {
              "outlinewidth": 0,
              "ticks": ""
             }
            },
            "marker": {
             "colorbar": {
              "outlinewidth": 0,
              "ticks": ""
             }
            },
            "type": "scatter3d"
           }
          ],
          "scattercarpet": [
           {
            "marker": {
             "colorbar": {
              "outlinewidth": 0,
              "ticks": ""
             }
            },
            "type": "scattercarpet"
           }
          ],
          "scattergeo": [
           {
            "marker": {
             "colorbar": {
              "outlinewidth": 0,
              "ticks": ""
             }
            },
            "type": "scattergeo"
           }
          ],
          "scattergl": [
           {
            "marker": {
             "colorbar": {
              "outlinewidth": 0,
              "ticks": ""
             }
            },
            "type": "scattergl"
           }
          ],
          "scattermapbox": [
           {
            "marker": {
             "colorbar": {
              "outlinewidth": 0,
              "ticks": ""
             }
            },
            "type": "scattermapbox"
           }
          ],
          "scatterpolar": [
           {
            "marker": {
             "colorbar": {
              "outlinewidth": 0,
              "ticks": ""
             }
            },
            "type": "scatterpolar"
           }
          ],
          "scatterpolargl": [
           {
            "marker": {
             "colorbar": {
              "outlinewidth": 0,
              "ticks": ""
             }
            },
            "type": "scatterpolargl"
           }
          ],
          "scatterternary": [
           {
            "marker": {
             "colorbar": {
              "outlinewidth": 0,
              "ticks": ""
             }
            },
            "type": "scatterternary"
           }
          ],
          "surface": [
           {
            "colorbar": {
             "outlinewidth": 0,
             "ticks": ""
            },
            "colorscale": [
             [
              0,
              "#0d0887"
             ],
             [
              0.1111111111111111,
              "#46039f"
             ],
             [
              0.2222222222222222,
              "#7201a8"
             ],
             [
              0.3333333333333333,
              "#9c179e"
             ],
             [
              0.4444444444444444,
              "#bd3786"
             ],
             [
              0.5555555555555556,
              "#d8576b"
             ],
             [
              0.6666666666666666,
              "#ed7953"
             ],
             [
              0.7777777777777778,
              "#fb9f3a"
             ],
             [
              0.8888888888888888,
              "#fdca26"
             ],
             [
              1,
              "#f0f921"
             ]
            ],
            "type": "surface"
           }
          ],
          "table": [
           {
            "cells": {
             "fill": {
              "color": "#EBF0F8"
             },
             "line": {
              "color": "white"
             }
            },
            "header": {
             "fill": {
              "color": "#C8D4E3"
             },
             "line": {
              "color": "white"
             }
            },
            "type": "table"
           }
          ]
         },
         "layout": {
          "annotationdefaults": {
           "arrowcolor": "#2a3f5f",
           "arrowhead": 0,
           "arrowwidth": 1
          },
          "autotypenumbers": "strict",
          "coloraxis": {
           "colorbar": {
            "outlinewidth": 0,
            "ticks": ""
           }
          },
          "colorscale": {
           "diverging": [
            [
             0,
             "#8e0152"
            ],
            [
             0.1,
             "#c51b7d"
            ],
            [
             0.2,
             "#de77ae"
            ],
            [
             0.3,
             "#f1b6da"
            ],
            [
             0.4,
             "#fde0ef"
            ],
            [
             0.5,
             "#f7f7f7"
            ],
            [
             0.6,
             "#e6f5d0"
            ],
            [
             0.7,
             "#b8e186"
            ],
            [
             0.8,
             "#7fbc41"
            ],
            [
             0.9,
             "#4d9221"
            ],
            [
             1,
             "#276419"
            ]
           ],
           "sequential": [
            [
             0,
             "#0d0887"
            ],
            [
             0.1111111111111111,
             "#46039f"
            ],
            [
             0.2222222222222222,
             "#7201a8"
            ],
            [
             0.3333333333333333,
             "#9c179e"
            ],
            [
             0.4444444444444444,
             "#bd3786"
            ],
            [
             0.5555555555555556,
             "#d8576b"
            ],
            [
             0.6666666666666666,
             "#ed7953"
            ],
            [
             0.7777777777777778,
             "#fb9f3a"
            ],
            [
             0.8888888888888888,
             "#fdca26"
            ],
            [
             1,
             "#f0f921"
            ]
           ],
           "sequentialminus": [
            [
             0,
             "#0d0887"
            ],
            [
             0.1111111111111111,
             "#46039f"
            ],
            [
             0.2222222222222222,
             "#7201a8"
            ],
            [
             0.3333333333333333,
             "#9c179e"
            ],
            [
             0.4444444444444444,
             "#bd3786"
            ],
            [
             0.5555555555555556,
             "#d8576b"
            ],
            [
             0.6666666666666666,
             "#ed7953"
            ],
            [
             0.7777777777777778,
             "#fb9f3a"
            ],
            [
             0.8888888888888888,
             "#fdca26"
            ],
            [
             1,
             "#f0f921"
            ]
           ]
          },
          "colorway": [
           "#636efa",
           "#EF553B",
           "#00cc96",
           "#ab63fa",
           "#FFA15A",
           "#19d3f3",
           "#FF6692",
           "#B6E880",
           "#FF97FF",
           "#FECB52"
          ],
          "font": {
           "color": "#2a3f5f"
          },
          "geo": {
           "bgcolor": "white",
           "lakecolor": "white",
           "landcolor": "white",
           "showlakes": true,
           "showland": true,
           "subunitcolor": "#C8D4E3"
          },
          "hoverlabel": {
           "align": "left"
          },
          "hovermode": "closest",
          "mapbox": {
           "style": "light"
          },
          "paper_bgcolor": "white",
          "plot_bgcolor": "white",
          "polar": {
           "angularaxis": {
            "gridcolor": "#EBF0F8",
            "linecolor": "#EBF0F8",
            "ticks": ""
           },
           "bgcolor": "white",
           "radialaxis": {
            "gridcolor": "#EBF0F8",
            "linecolor": "#EBF0F8",
            "ticks": ""
           }
          },
          "scene": {
           "xaxis": {
            "backgroundcolor": "white",
            "gridcolor": "#DFE8F3",
            "gridwidth": 2,
            "linecolor": "#EBF0F8",
            "showbackground": true,
            "ticks": "",
            "zerolinecolor": "#EBF0F8"
           },
           "yaxis": {
            "backgroundcolor": "white",
            "gridcolor": "#DFE8F3",
            "gridwidth": 2,
            "linecolor": "#EBF0F8",
            "showbackground": true,
            "ticks": "",
            "zerolinecolor": "#EBF0F8"
           },
           "zaxis": {
            "backgroundcolor": "white",
            "gridcolor": "#DFE8F3",
            "gridwidth": 2,
            "linecolor": "#EBF0F8",
            "showbackground": true,
            "ticks": "",
            "zerolinecolor": "#EBF0F8"
           }
          },
          "shapedefaults": {
           "line": {
            "color": "#2a3f5f"
           }
          },
          "ternary": {
           "aaxis": {
            "gridcolor": "#DFE8F3",
            "linecolor": "#A2B1C6",
            "ticks": ""
           },
           "baxis": {
            "gridcolor": "#DFE8F3",
            "linecolor": "#A2B1C6",
            "ticks": ""
           },
           "bgcolor": "white",
           "caxis": {
            "gridcolor": "#DFE8F3",
            "linecolor": "#A2B1C6",
            "ticks": ""
           }
          },
          "title": {
           "x": 0.05
          },
          "xaxis": {
           "automargin": true,
           "gridcolor": "#EBF0F8",
           "linecolor": "#EBF0F8",
           "ticks": "",
           "title": {
            "standoff": 15
           },
           "zerolinecolor": "#EBF0F8",
           "zerolinewidth": 2
          },
          "yaxis": {
           "automargin": true,
           "gridcolor": "#EBF0F8",
           "linecolor": "#EBF0F8",
           "ticks": "",
           "title": {
            "standoff": 15
           },
           "zerolinecolor": "#EBF0F8",
           "zerolinewidth": 2
          }
         }
        },
        "title": {
         "text": "매출비율"
        },
        "yaxis": {
         "showticklabels": false,
         "title": {
          "text": ""
         }
        }
       }
      }
     },
     "metadata": {},
     "output_type": "display_data"
    }
   ],
   "source": [
    "def donut_chart2():\n",
    "    custom_sort = {'VIP고객': 0, '우수고객': 1, '관심고객': 2, '잠재고객': 3, '이탈고객': 4}\n",
    "    sorted_categories = sorted(rfm_clusters_final['고객분류'], key=lambda x: custom_sort[x])\n",
    "\n",
    "    fig = px.pie(\n",
    "        rfm_clusters_final,\n",
    "        title=\"매출비율\",\n",
    "        values=\"매출\",\n",
    "        names=\"고객분류\",\n",
    "        template=\"plotly_white\",\n",
    "        hover_data=[\"매출 비율\"],\n",
    "        color_discrete_sequence=px.colors.qualitative.Plotly,  \n",
    "        category_orders={\"고객분류\": sorted_categories},  \n",
    "        hole=0.5  # 도넛의 중앙 뚫림을 나타내는 비율 (0~1)\n",
    "    )\n",
    "\n",
    "    fig.update_layout(legend=dict(x=-1, y=1.1), legend_orientation=\"v\")\n",
    "    fig.update_yaxes(title=\"\", showticklabels=False)\n",
    "    fig.data[0][\"hovertemplate\"] = fig.data[0][\"hovertemplate\"][:-14]\n",
    "    return fig\n",
    "\n",
    "fig2 = donut_chart2()\n",
    "fig2.show()"
   ]
  },
  {
   "cell_type": "code",
   "execution_count": 99,
   "id": "13cd89e0",
   "metadata": {},
   "outputs": [
    {
     "data": {
      "text/html": [
       "<div>\n",
       "<style scoped>\n",
       "    .dataframe tbody tr th:only-of-type {\n",
       "        vertical-align: middle;\n",
       "    }\n",
       "\n",
       "    .dataframe tbody tr th {\n",
       "        vertical-align: top;\n",
       "    }\n",
       "\n",
       "    .dataframe thead th {\n",
       "        text-align: right;\n",
       "    }\n",
       "</style>\n",
       "<table border=\"1\" class=\"dataframe\">\n",
       "  <thead>\n",
       "    <tr style=\"text-align: right;\">\n",
       "      <th></th>\n",
       "      <th>월</th>\n",
       "      <th>고객분류</th>\n",
       "      <th>매출</th>\n",
       "    </tr>\n",
       "  </thead>\n",
       "  <tbody>\n",
       "    <tr>\n",
       "      <th>0</th>\n",
       "      <td>1월</td>\n",
       "      <td>VIP고객</td>\n",
       "      <td>183021.40</td>\n",
       "    </tr>\n",
       "    <tr>\n",
       "      <th>5</th>\n",
       "      <td>2월</td>\n",
       "      <td>VIP고객</td>\n",
       "      <td>194509.39</td>\n",
       "    </tr>\n",
       "    <tr>\n",
       "      <th>10</th>\n",
       "      <td>3월</td>\n",
       "      <td>VIP고객</td>\n",
       "      <td>140065.85</td>\n",
       "    </tr>\n",
       "    <tr>\n",
       "      <th>15</th>\n",
       "      <td>4월</td>\n",
       "      <td>VIP고객</td>\n",
       "      <td>244336.96</td>\n",
       "    </tr>\n",
       "    <tr>\n",
       "      <th>20</th>\n",
       "      <td>5월</td>\n",
       "      <td>VIP고객</td>\n",
       "      <td>164944.92</td>\n",
       "    </tr>\n",
       "    <tr>\n",
       "      <th>25</th>\n",
       "      <td>6월</td>\n",
       "      <td>VIP고객</td>\n",
       "      <td>100035.73</td>\n",
       "    </tr>\n",
       "    <tr>\n",
       "      <th>30</th>\n",
       "      <td>7월</td>\n",
       "      <td>VIP고객</td>\n",
       "      <td>229118.62</td>\n",
       "    </tr>\n",
       "    <tr>\n",
       "      <th>35</th>\n",
       "      <td>8월</td>\n",
       "      <td>VIP고객</td>\n",
       "      <td>170884.64</td>\n",
       "    </tr>\n",
       "    <tr>\n",
       "      <th>40</th>\n",
       "      <td>9월</td>\n",
       "      <td>VIP고객</td>\n",
       "      <td>179624.49</td>\n",
       "    </tr>\n",
       "    <tr>\n",
       "      <th>45</th>\n",
       "      <td>10월</td>\n",
       "      <td>VIP고객</td>\n",
       "      <td>196205.87</td>\n",
       "    </tr>\n",
       "  </tbody>\n",
       "</table>\n",
       "</div>"
      ],
      "text/plain": [
       "      월   고객분류         매출\n",
       "0    1월  VIP고객  183021.40\n",
       "5    2월  VIP고객  194509.39\n",
       "10   3월  VIP고객  140065.85\n",
       "15   4월  VIP고객  244336.96\n",
       "20   5월  VIP고객  164944.92\n",
       "25   6월  VIP고객  100035.73\n",
       "30   7월  VIP고객  229118.62\n",
       "35   8월  VIP고객  170884.64\n",
       "40   9월  VIP고객  179624.49\n",
       "45  10월  VIP고객  196205.87"
      ]
     },
     "execution_count": 99,
     "metadata": {},
     "output_type": "execute_result"
    }
   ],
   "source": [
    "temp_df = joined_df.groupby(['월', '고객분류'])['매출'].sum().reset_index()\n",
    "temp_df = temp_df.loc[temp_df.고객분류 == \"VIP고객\", ]\n",
    "temp_df['월'] = temp_df['월'].apply(lambda x: str(x) + '월')\n",
    "temp_df"
   ]
  },
  {
   "cell_type": "code",
   "execution_count": 100,
   "id": "bc70c0e1",
   "metadata": {
    "scrolled": true
   },
   "outputs": [
    {
     "data": {
      "application/vnd.plotly.v1+json": {
       "config": {
        "plotlyServerURL": "https://plot.ly"
       },
       "data": [
        {
         "alignmentgroup": "True",
         "hovertemplate": "Month:=%{x}<br>Revenue=%{y}<",
         "legendgroup": "1월",
         "marker": {
          "color": "#636EFA",
          "pattern": {
           "shape": ""
          }
         },
         "name": "1월",
         "offsetgroup": "1월",
         "orientation": "v",
         "showlegend": true,
         "textposition": "auto",
         "type": "bar",
         "x": [
          "1월"
         ],
         "xaxis": "x",
         "y": [
          183021.4
         ],
         "yaxis": "y"
        },
        {
         "alignmentgroup": "True",
         "hovertemplate": "Month:=%{x}<br>Revenue=%{y}<extra></extra>",
         "legendgroup": "2월",
         "marker": {
          "color": "#EF553B",
          "pattern": {
           "shape": ""
          }
         },
         "name": "2월",
         "offsetgroup": "2월",
         "orientation": "v",
         "showlegend": true,
         "textposition": "auto",
         "type": "bar",
         "x": [
          "2월"
         ],
         "xaxis": "x",
         "y": [
          194509.38999999998
         ],
         "yaxis": "y"
        },
        {
         "alignmentgroup": "True",
         "hovertemplate": "Month:=%{x}<br>Revenue=%{y}<extra></extra>",
         "legendgroup": "3월",
         "marker": {
          "color": "#00CC96",
          "pattern": {
           "shape": ""
          }
         },
         "name": "3월",
         "offsetgroup": "3월",
         "orientation": "v",
         "showlegend": true,
         "textposition": "auto",
         "type": "bar",
         "x": [
          "3월"
         ],
         "xaxis": "x",
         "y": [
          140065.85
         ],
         "yaxis": "y"
        },
        {
         "alignmentgroup": "True",
         "hovertemplate": "Month:=%{x}<br>Revenue=%{y}<extra></extra>",
         "legendgroup": "4월",
         "marker": {
          "color": "#AB63FA",
          "pattern": {
           "shape": ""
          }
         },
         "name": "4월",
         "offsetgroup": "4월",
         "orientation": "v",
         "showlegend": true,
         "textposition": "auto",
         "type": "bar",
         "x": [
          "4월"
         ],
         "xaxis": "x",
         "y": [
          244336.96
         ],
         "yaxis": "y"
        },
        {
         "alignmentgroup": "True",
         "hovertemplate": "Month:=%{x}<br>Revenue=%{y}<extra></extra>",
         "legendgroup": "5월",
         "marker": {
          "color": "#FFA15A",
          "pattern": {
           "shape": ""
          }
         },
         "name": "5월",
         "offsetgroup": "5월",
         "orientation": "v",
         "showlegend": true,
         "textposition": "auto",
         "type": "bar",
         "x": [
          "5월"
         ],
         "xaxis": "x",
         "y": [
          164944.92
         ],
         "yaxis": "y"
        },
        {
         "alignmentgroup": "True",
         "hovertemplate": "Month:=%{x}<br>Revenue=%{y}<extra></extra>",
         "legendgroup": "6월",
         "marker": {
          "color": "#19D3F3",
          "pattern": {
           "shape": ""
          }
         },
         "name": "6월",
         "offsetgroup": "6월",
         "orientation": "v",
         "showlegend": true,
         "textposition": "auto",
         "type": "bar",
         "x": [
          "6월"
         ],
         "xaxis": "x",
         "y": [
          100035.73
         ],
         "yaxis": "y"
        },
        {
         "alignmentgroup": "True",
         "hovertemplate": "Month:=%{x}<br>Revenue=%{y}<extra></extra>",
         "legendgroup": "7월",
         "marker": {
          "color": "#FF6692",
          "pattern": {
           "shape": ""
          }
         },
         "name": "7월",
         "offsetgroup": "7월",
         "orientation": "v",
         "showlegend": true,
         "textposition": "auto",
         "type": "bar",
         "x": [
          "7월"
         ],
         "xaxis": "x",
         "y": [
          229118.62
         ],
         "yaxis": "y"
        },
        {
         "alignmentgroup": "True",
         "hovertemplate": "Month:=%{x}<br>Revenue=%{y}<extra></extra>",
         "legendgroup": "8월",
         "marker": {
          "color": "#B6E880",
          "pattern": {
           "shape": ""
          }
         },
         "name": "8월",
         "offsetgroup": "8월",
         "orientation": "v",
         "showlegend": true,
         "textposition": "auto",
         "type": "bar",
         "x": [
          "8월"
         ],
         "xaxis": "x",
         "y": [
          170884.63999999998
         ],
         "yaxis": "y"
        },
        {
         "alignmentgroup": "True",
         "hovertemplate": "Month:=%{x}<br>Revenue=%{y}<extra></extra>",
         "legendgroup": "9월",
         "marker": {
          "color": "#FF97FF",
          "pattern": {
           "shape": ""
          }
         },
         "name": "9월",
         "offsetgroup": "9월",
         "orientation": "v",
         "showlegend": true,
         "textposition": "auto",
         "type": "bar",
         "x": [
          "9월"
         ],
         "xaxis": "x",
         "y": [
          179624.49
         ],
         "yaxis": "y"
        },
        {
         "alignmentgroup": "True",
         "hovertemplate": "Month:=%{x}<br>Revenue=%{y}<extra></extra>",
         "legendgroup": "10월",
         "marker": {
          "color": "#FECB52",
          "pattern": {
           "shape": ""
          }
         },
         "name": "10월",
         "offsetgroup": "10월",
         "orientation": "v",
         "showlegend": true,
         "textposition": "auto",
         "type": "bar",
         "x": [
          "10월"
         ],
         "xaxis": "x",
         "y": [
          196205.87
         ],
         "yaxis": "y"
        }
       ],
       "layout": {
        "barmode": "relative",
        "legend": {
         "orientation": "h",
         "title": {
          "text": "Month:"
         },
         "tracegroupgap": 0,
         "x": 0.1,
         "y": 1.1
        },
        "template": {
         "data": {
          "bar": [
           {
            "error_x": {
             "color": "#2a3f5f"
            },
            "error_y": {
             "color": "#2a3f5f"
            },
            "marker": {
             "line": {
              "color": "white",
              "width": 0.5
             },
             "pattern": {
              "fillmode": "overlay",
              "size": 10,
              "solidity": 0.2
             }
            },
            "type": "bar"
           }
          ],
          "barpolar": [
           {
            "marker": {
             "line": {
              "color": "white",
              "width": 0.5
             },
             "pattern": {
              "fillmode": "overlay",
              "size": 10,
              "solidity": 0.2
             }
            },
            "type": "barpolar"
           }
          ],
          "carpet": [
           {
            "aaxis": {
             "endlinecolor": "#2a3f5f",
             "gridcolor": "#C8D4E3",
             "linecolor": "#C8D4E3",
             "minorgridcolor": "#C8D4E3",
             "startlinecolor": "#2a3f5f"
            },
            "baxis": {
             "endlinecolor": "#2a3f5f",
             "gridcolor": "#C8D4E3",
             "linecolor": "#C8D4E3",
             "minorgridcolor": "#C8D4E3",
             "startlinecolor": "#2a3f5f"
            },
            "type": "carpet"
           }
          ],
          "choropleth": [
           {
            "colorbar": {
             "outlinewidth": 0,
             "ticks": ""
            },
            "type": "choropleth"
           }
          ],
          "contour": [
           {
            "colorbar": {
             "outlinewidth": 0,
             "ticks": ""
            },
            "colorscale": [
             [
              0,
              "#0d0887"
             ],
             [
              0.1111111111111111,
              "#46039f"
             ],
             [
              0.2222222222222222,
              "#7201a8"
             ],
             [
              0.3333333333333333,
              "#9c179e"
             ],
             [
              0.4444444444444444,
              "#bd3786"
             ],
             [
              0.5555555555555556,
              "#d8576b"
             ],
             [
              0.6666666666666666,
              "#ed7953"
             ],
             [
              0.7777777777777778,
              "#fb9f3a"
             ],
             [
              0.8888888888888888,
              "#fdca26"
             ],
             [
              1,
              "#f0f921"
             ]
            ],
            "type": "contour"
           }
          ],
          "contourcarpet": [
           {
            "colorbar": {
             "outlinewidth": 0,
             "ticks": ""
            },
            "type": "contourcarpet"
           }
          ],
          "heatmap": [
           {
            "colorbar": {
             "outlinewidth": 0,
             "ticks": ""
            },
            "colorscale": [
             [
              0,
              "#0d0887"
             ],
             [
              0.1111111111111111,
              "#46039f"
             ],
             [
              0.2222222222222222,
              "#7201a8"
             ],
             [
              0.3333333333333333,
              "#9c179e"
             ],
             [
              0.4444444444444444,
              "#bd3786"
             ],
             [
              0.5555555555555556,
              "#d8576b"
             ],
             [
              0.6666666666666666,
              "#ed7953"
             ],
             [
              0.7777777777777778,
              "#fb9f3a"
             ],
             [
              0.8888888888888888,
              "#fdca26"
             ],
             [
              1,
              "#f0f921"
             ]
            ],
            "type": "heatmap"
           }
          ],
          "heatmapgl": [
           {
            "colorbar": {
             "outlinewidth": 0,
             "ticks": ""
            },
            "colorscale": [
             [
              0,
              "#0d0887"
             ],
             [
              0.1111111111111111,
              "#46039f"
             ],
             [
              0.2222222222222222,
              "#7201a8"
             ],
             [
              0.3333333333333333,
              "#9c179e"
             ],
             [
              0.4444444444444444,
              "#bd3786"
             ],
             [
              0.5555555555555556,
              "#d8576b"
             ],
             [
              0.6666666666666666,
              "#ed7953"
             ],
             [
              0.7777777777777778,
              "#fb9f3a"
             ],
             [
              0.8888888888888888,
              "#fdca26"
             ],
             [
              1,
              "#f0f921"
             ]
            ],
            "type": "heatmapgl"
           }
          ],
          "histogram": [
           {
            "marker": {
             "pattern": {
              "fillmode": "overlay",
              "size": 10,
              "solidity": 0.2
             }
            },
            "type": "histogram"
           }
          ],
          "histogram2d": [
           {
            "colorbar": {
             "outlinewidth": 0,
             "ticks": ""
            },
            "colorscale": [
             [
              0,
              "#0d0887"
             ],
             [
              0.1111111111111111,
              "#46039f"
             ],
             [
              0.2222222222222222,
              "#7201a8"
             ],
             [
              0.3333333333333333,
              "#9c179e"
             ],
             [
              0.4444444444444444,
              "#bd3786"
             ],
             [
              0.5555555555555556,
              "#d8576b"
             ],
             [
              0.6666666666666666,
              "#ed7953"
             ],
             [
              0.7777777777777778,
              "#fb9f3a"
             ],
             [
              0.8888888888888888,
              "#fdca26"
             ],
             [
              1,
              "#f0f921"
             ]
            ],
            "type": "histogram2d"
           }
          ],
          "histogram2dcontour": [
           {
            "colorbar": {
             "outlinewidth": 0,
             "ticks": ""
            },
            "colorscale": [
             [
              0,
              "#0d0887"
             ],
             [
              0.1111111111111111,
              "#46039f"
             ],
             [
              0.2222222222222222,
              "#7201a8"
             ],
             [
              0.3333333333333333,
              "#9c179e"
             ],
             [
              0.4444444444444444,
              "#bd3786"
             ],
             [
              0.5555555555555556,
              "#d8576b"
             ],
             [
              0.6666666666666666,
              "#ed7953"
             ],
             [
              0.7777777777777778,
              "#fb9f3a"
             ],
             [
              0.8888888888888888,
              "#fdca26"
             ],
             [
              1,
              "#f0f921"
             ]
            ],
            "type": "histogram2dcontour"
           }
          ],
          "mesh3d": [
           {
            "colorbar": {
             "outlinewidth": 0,
             "ticks": ""
            },
            "type": "mesh3d"
           }
          ],
          "parcoords": [
           {
            "line": {
             "colorbar": {
              "outlinewidth": 0,
              "ticks": ""
             }
            },
            "type": "parcoords"
           }
          ],
          "pie": [
           {
            "automargin": true,
            "type": "pie"
           }
          ],
          "scatter": [
           {
            "fillpattern": {
             "fillmode": "overlay",
             "size": 10,
             "solidity": 0.2
            },
            "type": "scatter"
           }
          ],
          "scatter3d": [
           {
            "line": {
             "colorbar": {
              "outlinewidth": 0,
              "ticks": ""
             }
            },
            "marker": {
             "colorbar": {
              "outlinewidth": 0,
              "ticks": ""
             }
            },
            "type": "scatter3d"
           }
          ],
          "scattercarpet": [
           {
            "marker": {
             "colorbar": {
              "outlinewidth": 0,
              "ticks": ""
             }
            },
            "type": "scattercarpet"
           }
          ],
          "scattergeo": [
           {
            "marker": {
             "colorbar": {
              "outlinewidth": 0,
              "ticks": ""
             }
            },
            "type": "scattergeo"
           }
          ],
          "scattergl": [
           {
            "marker": {
             "colorbar": {
              "outlinewidth": 0,
              "ticks": ""
             }
            },
            "type": "scattergl"
           }
          ],
          "scattermapbox": [
           {
            "marker": {
             "colorbar": {
              "outlinewidth": 0,
              "ticks": ""
             }
            },
            "type": "scattermapbox"
           }
          ],
          "scatterpolar": [
           {
            "marker": {
             "colorbar": {
              "outlinewidth": 0,
              "ticks": ""
             }
            },
            "type": "scatterpolar"
           }
          ],
          "scatterpolargl": [
           {
            "marker": {
             "colorbar": {
              "outlinewidth": 0,
              "ticks": ""
             }
            },
            "type": "scatterpolargl"
           }
          ],
          "scatterternary": [
           {
            "marker": {
             "colorbar": {
              "outlinewidth": 0,
              "ticks": ""
             }
            },
            "type": "scatterternary"
           }
          ],
          "surface": [
           {
            "colorbar": {
             "outlinewidth": 0,
             "ticks": ""
            },
            "colorscale": [
             [
              0,
              "#0d0887"
             ],
             [
              0.1111111111111111,
              "#46039f"
             ],
             [
              0.2222222222222222,
              "#7201a8"
             ],
             [
              0.3333333333333333,
              "#9c179e"
             ],
             [
              0.4444444444444444,
              "#bd3786"
             ],
             [
              0.5555555555555556,
              "#d8576b"
             ],
             [
              0.6666666666666666,
              "#ed7953"
             ],
             [
              0.7777777777777778,
              "#fb9f3a"
             ],
             [
              0.8888888888888888,
              "#fdca26"
             ],
             [
              1,
              "#f0f921"
             ]
            ],
            "type": "surface"
           }
          ],
          "table": [
           {
            "cells": {
             "fill": {
              "color": "#EBF0F8"
             },
             "line": {
              "color": "white"
             }
            },
            "header": {
             "fill": {
              "color": "#C8D4E3"
             },
             "line": {
              "color": "white"
             }
            },
            "type": "table"
           }
          ]
         },
         "layout": {
          "annotationdefaults": {
           "arrowcolor": "#2a3f5f",
           "arrowhead": 0,
           "arrowwidth": 1
          },
          "autotypenumbers": "strict",
          "coloraxis": {
           "colorbar": {
            "outlinewidth": 0,
            "ticks": ""
           }
          },
          "colorscale": {
           "diverging": [
            [
             0,
             "#8e0152"
            ],
            [
             0.1,
             "#c51b7d"
            ],
            [
             0.2,
             "#de77ae"
            ],
            [
             0.3,
             "#f1b6da"
            ],
            [
             0.4,
             "#fde0ef"
            ],
            [
             0.5,
             "#f7f7f7"
            ],
            [
             0.6,
             "#e6f5d0"
            ],
            [
             0.7,
             "#b8e186"
            ],
            [
             0.8,
             "#7fbc41"
            ],
            [
             0.9,
             "#4d9221"
            ],
            [
             1,
             "#276419"
            ]
           ],
           "sequential": [
            [
             0,
             "#0d0887"
            ],
            [
             0.1111111111111111,
             "#46039f"
            ],
            [
             0.2222222222222222,
             "#7201a8"
            ],
            [
             0.3333333333333333,
             "#9c179e"
            ],
            [
             0.4444444444444444,
             "#bd3786"
            ],
            [
             0.5555555555555556,
             "#d8576b"
            ],
            [
             0.6666666666666666,
             "#ed7953"
            ],
            [
             0.7777777777777778,
             "#fb9f3a"
            ],
            [
             0.8888888888888888,
             "#fdca26"
            ],
            [
             1,
             "#f0f921"
            ]
           ],
           "sequentialminus": [
            [
             0,
             "#0d0887"
            ],
            [
             0.1111111111111111,
             "#46039f"
            ],
            [
             0.2222222222222222,
             "#7201a8"
            ],
            [
             0.3333333333333333,
             "#9c179e"
            ],
            [
             0.4444444444444444,
             "#bd3786"
            ],
            [
             0.5555555555555556,
             "#d8576b"
            ],
            [
             0.6666666666666666,
             "#ed7953"
            ],
            [
             0.7777777777777778,
             "#fb9f3a"
            ],
            [
             0.8888888888888888,
             "#fdca26"
            ],
            [
             1,
             "#f0f921"
            ]
           ]
          },
          "colorway": [
           "#636efa",
           "#EF553B",
           "#00cc96",
           "#ab63fa",
           "#FFA15A",
           "#19d3f3",
           "#FF6692",
           "#B6E880",
           "#FF97FF",
           "#FECB52"
          ],
          "font": {
           "color": "#2a3f5f"
          },
          "geo": {
           "bgcolor": "white",
           "lakecolor": "white",
           "landcolor": "white",
           "showlakes": true,
           "showland": true,
           "subunitcolor": "#C8D4E3"
          },
          "hoverlabel": {
           "align": "left"
          },
          "hovermode": "closest",
          "mapbox": {
           "style": "light"
          },
          "paper_bgcolor": "white",
          "plot_bgcolor": "white",
          "polar": {
           "angularaxis": {
            "gridcolor": "#EBF0F8",
            "linecolor": "#EBF0F8",
            "ticks": ""
           },
           "bgcolor": "white",
           "radialaxis": {
            "gridcolor": "#EBF0F8",
            "linecolor": "#EBF0F8",
            "ticks": ""
           }
          },
          "scene": {
           "xaxis": {
            "backgroundcolor": "white",
            "gridcolor": "#DFE8F3",
            "gridwidth": 2,
            "linecolor": "#EBF0F8",
            "showbackground": true,
            "ticks": "",
            "zerolinecolor": "#EBF0F8"
           },
           "yaxis": {
            "backgroundcolor": "white",
            "gridcolor": "#DFE8F3",
            "gridwidth": 2,
            "linecolor": "#EBF0F8",
            "showbackground": true,
            "ticks": "",
            "zerolinecolor": "#EBF0F8"
           },
           "zaxis": {
            "backgroundcolor": "white",
            "gridcolor": "#DFE8F3",
            "gridwidth": 2,
            "linecolor": "#EBF0F8",
            "showbackground": true,
            "ticks": "",
            "zerolinecolor": "#EBF0F8"
           }
          },
          "shapedefaults": {
           "line": {
            "color": "#2a3f5f"
           }
          },
          "ternary": {
           "aaxis": {
            "gridcolor": "#DFE8F3",
            "linecolor": "#A2B1C6",
            "ticks": ""
           },
           "baxis": {
            "gridcolor": "#DFE8F3",
            "linecolor": "#A2B1C6",
            "ticks": ""
           },
           "bgcolor": "white",
           "caxis": {
            "gridcolor": "#DFE8F3",
            "linecolor": "#A2B1C6",
            "ticks": ""
           }
          },
          "title": {
           "x": 0.05
          },
          "xaxis": {
           "automargin": true,
           "gridcolor": "#EBF0F8",
           "linecolor": "#EBF0F8",
           "ticks": "",
           "title": {
            "standoff": 15
           },
           "zerolinecolor": "#EBF0F8",
           "zerolinewidth": 2
          },
          "yaxis": {
           "automargin": true,
           "gridcolor": "#EBF0F8",
           "linecolor": "#EBF0F8",
           "ticks": "",
           "title": {
            "standoff": 15
           },
           "zerolinecolor": "#EBF0F8",
           "zerolinewidth": 2
          }
         }
        },
        "title": {
         "text": "Comparison: VIP고객 | 매출"
        },
        "xaxis": {
         "anchor": "y",
         "categoryarray": [
          "1월",
          "2월",
          "3월",
          "4월",
          "5월",
          "6월",
          "7월",
          "8월",
          "9월",
          "10월"
         ],
         "categoryorder": "array",
         "domain": [
          0,
          1
         ],
         "title": {
          "text": "Month:"
         }
        },
        "yaxis": {
         "anchor": "x",
         "domain": [
          0,
          1
         ],
         "showticklabels": false,
         "title": {
          "text": ""
         }
        }
       }
      }
     },
     "metadata": {},
     "output_type": "display_data"
    }
   ],
   "source": [
    "def comp_bigram_comparisons(comp2, comp1):\n",
    "    temp_df = joined_df.groupby(['월', '고객분류'])[comp1].sum().reset_index()\n",
    "    temp_df = temp_df.loc[temp_df.고객분류 == comp2, ]\n",
    "\n",
    "    # 숫자형 월을 문자형으로 변경\n",
    "    temp_df['월'] = temp_df['월'].apply(lambda x: str(x) + '월')\n",
    "\n",
    "    fig = px.bar(\n",
    "        temp_df,\n",
    "        title=\"Comparison: \" + comp2 + \" | \" + comp1,\n",
    "        x=\"월\",\n",
    "        y=\"매출\",\n",
    "        color=\"월\",\n",
    "        template=\"plotly_white\",\n",
    "        color_discrete_sequence=px.colors.qualitative.Plotly,  # 도넛 차트와 같은 색상 팔레트 적용\n",
    "        labels={\"월\": \"Month:\", \"매출\": \"Revenue\"},\n",
    "        hover_data=[],\n",
    "    )\n",
    "    fig.update_layout(legend=dict(x=0.1, y=1.1), legend_orientation=\"h\")\n",
    "    fig.update_yaxes(title=\"\", showticklabels=False)\n",
    "    fig.data[0][\"hovertemplate\"] = fig.data[0][\"hovertemplate\"][:-14]\n",
    "    return fig\n",
    "comp_bigram_comparisons(\"VIP고객\", \"매출\")"
   ]
  },
  {
   "cell_type": "markdown",
   "id": "ae30da85",
   "metadata": {},
   "source": [
    "# 대시보드 완성"
   ]
  },
  {
   "cell_type": "code",
   "execution_count": 101,
   "id": "1aa3985e",
   "metadata": {},
   "outputs": [],
   "source": [
    "# NAVBAR 구성\n",
    "NAVBAR = dbc.Navbar(\n",
    "    children=[\n",
    "        html.A(\n",
    "            # Use row and col to control vertical alignment of logo / brand\n",
    "            dbc.Row(\n",
    "                [\n",
    "                    dbc.Col(html.Img(src=PLOTLY_LOGO, height=\"30px\")),\n",
    "                    dbc.Col(\n",
    "                        dbc.NavbarBrand(\"고객 매출 분석\", className=\"ml-2\")\n",
    "                    ),\n",
    "                ],\n",
    "                align=\"center\",\n",
    "            ),\n",
    "            href=\"https://plot.ly\",\n",
    "        )\n",
    "    ],\n",
    "    color=\"dark\",\n",
    "    dark=True,\n",
    "    sticky=\"top\",\n",
    ")"
   ]
  },
  {
   "cell_type": "code",
   "execution_count": 102,
   "id": "d74ddf56",
   "metadata": {},
   "outputs": [],
   "source": [
    "CLUSTER1 = dbc.Card(\n",
    "    [\n",
    "        dbc.CardHeader(html.H5(\"Comparison of each cluster\")),\n",
    "        dbc.CardBody(\n",
    "            [\n",
    "                dcc.Loading(\n",
    "                    id=\"loading-cluster-comps\",\n",
    "                    children=[\n",
    "                        dbc.Alert(\n",
    "                            \"Something's gone wrong! Give us a moment, but try loading this page again if problem persists.\",\n",
    "                            id=\"cluster-alert\",  # ID 변경\n",
    "                            color=\"warning\",\n",
    "                            style={\"display\": \"none\"},\n",
    "                        ),\n",
    "                        dcc.Graph(id=\"cluster-comps\", figure=donut_chart1()),  # pie1 그래프를 초기 그래프로 설정\n",
    "                    ],\n",
    "                    type=\"default\",\n",
    "                )\n",
    "            ],\n",
    "            style={\"marginTop\": 0, \"marginBottom\": 0},\n",
    "        ),\n",
    "    ]\n",
    ")"
   ]
  },
  {
   "cell_type": "code",
   "execution_count": 103,
   "id": "c632e0e2",
   "metadata": {},
   "outputs": [],
   "source": [
    "CLUSTER2 = dbc.Card(\n",
    "    [\n",
    "        dbc.CardHeader(html.H5(\"Comparison of each cluster\")),\n",
    "        dbc.CardBody(\n",
    "            [\n",
    "                dcc.Loading(\n",
    "                    id=\"loading-cluster-comps\",\n",
    "                    children=[\n",
    "                        dbc.Alert(\n",
    "                            \"Something's gone wrong! Give us a moment, but try loading this page again if problem persists.\",\n",
    "                            id=\"cluster-alert\",  # ID 변경\n",
    "                            color=\"warning\",\n",
    "                            style={\"display\": \"none\"},\n",
    "                        ),\n",
    "                        dcc.Graph(id=\"cluster-comps\", figure=donut_chart2()),  # pie1 그래프를 초기 그래프로 설정\n",
    "                    ],\n",
    "                    type=\"default\",\n",
    "                )\n",
    "            ],\n",
    "            style={\"marginTop\": 0, \"marginBottom\": 0},\n",
    "        ),\n",
    "    ]\n",
    ")"
   ]
  },
  {
   "cell_type": "code",
   "execution_count": 104,
   "id": "b5c7609b",
   "metadata": {},
   "outputs": [],
   "source": [
    "# 군집별 매출액\n",
    "TOP_BIGRAM_COMPS = dbc.Card(\n",
    "    [\n",
    "        dbc.CardHeader(html.H5(\"월별 매출액\")),\n",
    "        dbc.CardBody(\n",
    "            [\n",
    "                dcc.Loading(\n",
    "                    id=\"loading-bigrams-comps\",\n",
    "                    children=[\n",
    "                        dbc.Alert(\n",
    "                            \"Something's gone wrong! Give us a moment, but try loading this page again if problem persists.\",\n",
    "                            id=\"bigrams-alert\",  # ID 변경\n",
    "                            color=\"warning\",\n",
    "                            style={\"display\": \"none\"},\n",
    "                        ),\n",
    "                        dbc.Row(\n",
    "                            [\n",
    "                                dbc.Col(html.P(\"Choose you want to know group:\"), md=12),\n",
    "                                dbc.Col(\n",
    "                                    [\n",
    "                                        dcc.Dropdown(\n",
    "                                            id=\"bigrams-comp_1\",\n",
    "                                            options=[\n",
    "                                                {\"label\": i, \"value\": i}\n",
    "                                                for i in dt.고객분류.unique()\n",
    "                                            ],\n",
    "                                            value=\"VIP고객\",\n",
    "                                        )\n",
    "                                    ],\n",
    "                                    md=6,\n",
    "                                ),\n",
    "                                dbc.Col(\n",
    "                                    [\n",
    "                                        dcc.Dropdown(\n",
    "                                            id=\"bigrams-comp_2\",\n",
    "                                            options=[\n",
    "                                                {\"label\": i, \"value\": i}\n",
    "                                                for i in ['매출','이탈률','마케팅비용','재구매율','ROI,ARPPU']\n",
    "                                            ],\n",
    "                                            value=\"매출\",\n",
    "                                        )\n",
    "                                    ],\n",
    "                                    md=6,\n",
    "                                ),\n",
    "                            ]\n",
    "                        ),\n",
    "                        dcc.Graph(id=\"bigrams-comps\"),\n",
    "                    ],\n",
    "                    type=\"default\",\n",
    "                )\n",
    "            ],\n",
    "            style={\"marginTop\": 0, \"marginBottom\": 0},\n",
    "        ),\n",
    "    ]\n",
    ")"
   ]
  },
  {
   "cell_type": "code",
   "execution_count": 105,
   "id": "5b3bc65d",
   "metadata": {},
   "outputs": [],
   "source": [
    "CLUSTER3 = dbc.Card(\n",
    "    [\n",
    "        dbc.CardHeader(html.H5(\"Comparison of each cluster\")),\n",
    "        dbc.CardBody(\n",
    "            [\n",
    "                dcc.Loading(\n",
    "                    id=\"loading-cluster3-comps\",\n",
    "                    children=[\n",
    "                        dbc.Alert(\n",
    "                            \"Something's gone wrong! Give us a moment, but try loading this page again if problem persists.\",\n",
    "                            id=\"cluster-alert\",\n",
    "                            color=\"warning\",\n",
    "                            style={\"display\": \"none\"},\n",
    "                        ),\n",
    "                        dcc.Dropdown(\n",
    "                            id=\"customer-type-dropdown\",\n",
    "                            options=[\n",
    "                                {\"label\": \"VIP고객\", \"value\": \"VIP고객\"},\n",
    "                                {\"label\": \"관심고객\", \"value\": \"관심고객\"},\n",
    "                                {\"label\": \"우수고객\", \"value\": \"우수고객\"},\n",
    "                                {\"label\": \"이탈고객\", \"value\": \"이탈고객\"},\n",
    "                                {\"label\": \"잠재고객\", \"value\": \"잠재고객\"}\n",
    "                            ],\n",
    "                            value=\"VIP고객\",\n",
    "                            clearable=False,\n",
    "                            style={\"marginBottom\": 50, \"font-size\": 12},\n",
    "                        ),\n",
    "                        dcc.Graph(id=\"customer-cluster-graph\"),\n",
    "                        dcc.Graph(id=\"monetary-cluster-graph\"),\n",
    "                    ],\n",
    "                    type=\"default\",\n",
    "                )\n",
    "            ],\n",
    "            style={\"marginTop\": 0, \"marginBottom\": 0},\n",
    "        ),\n",
    "    ]\n",
    ")"
   ]
  },
  {
   "cell_type": "code",
   "execution_count": 106,
   "id": "c1c8c4f2",
   "metadata": {},
   "outputs": [],
   "source": [
    "def make_options_coupon_drop(coupon_states):\n",
    "    return [{'label': state, 'value': state} for state in coupon_states]\n"
   ]
  },
  {
   "cell_type": "code",
   "execution_count": 107,
   "id": "a8ce7e64",
   "metadata": {},
   "outputs": [],
   "source": [
    "LEFT_COLUMN = dbc.Card(\n",
    "    [\n",
    "        html.H4(children=\"Select Month & Coupon\", className=\"display-5\"),\n",
    "        html.Hr(className=\"my-2\"),\n",
    "        html.Label(\"Select Month\", className=\"lead\"),\n",
    "        dcc.Slider(\n",
    "            id=\"month-selection-slider\",\n",
    "            min=1,\n",
    "            max=12,\n",
    "            step=1,\n",
    "            marks={i: f\"{i}월\" for i in range(1, 13)},\n",
    "            value=1,  # 기본값을 1로 설정\n",
    "        ),\n",
    "        html.Label(\"Select a coupon status\", style={\"marginTop\": 50}, className=\"lead\"),\n",
    "        html.P(\n",
    "            \"(You can select a coupon status)\",\n",
    "            style={\"fontSize\": 10, \"font-weight\": \"lighter\"},\n",
    "        ),\n",
    "        dcc.Dropdown(\n",
    "            id=\"coupon-drop\", \n",
    "            options=make_options_coupon_drop(df['쿠폰상태'].unique()), \n",
    "            clearable=False, \n",
    "            value=df['쿠폰상태'].unique()[0],  # 초기값 설정\n",
    "            style={\"marginBottom\": 50, \"font-size\": 12}\n",
    "        ),\n",
    "    ]\n",
    ")\n",
    "\n",
    "BAR_PLOT = [\n",
    "    dbc.CardHeader(html.H5(\"제품별 매출액\")),\n",
    "    dbc.CardBody(\n",
    "        [\n",
    "            dcc.Loading(\n",
    "                id=\"loading-bar-plot\",\n",
    "                children=[\n",
    "                    dbc.Alert(\n",
    "                        \"Not enough data to render this plot, please adjust the filters\",\n",
    "                        id=\"no-data-alert-bar\",\n",
    "                        color=\"warning\",\n",
    "                        style={\"display\": \"none\"},\n",
    "                    ),\n",
    "                    dcc.Graph(id=\"bar-plot\"),\n",
    "                ],\n",
    "                type=\"default\",\n",
    "            )\n",
    "        ],\n",
    "        style={\"marginTop\": 0, \"marginBottom\": 0},\n",
    "    ),\n",
    "]"
   ]
  },
  {
   "cell_type": "code",
   "execution_count": 108,
   "id": "8c16ebf1",
   "metadata": {},
   "outputs": [],
   "source": [
    "def make_options_customer_type(customer_types):\n",
    "    return [{'label': ctype, 'value': ctype} for ctype in customer_types]"
   ]
  },
  {
   "cell_type": "code",
   "execution_count": 109,
   "id": "9a1687f8",
   "metadata": {},
   "outputs": [],
   "source": [
    "TREEMAP = dbc.Card(\n",
    "    [\n",
    "        dbc.CardHeader(html.H4(\"쿠폰별 매출액\")),\n",
    "        dbc.CardBody(\n",
    "            [\n",
    "                dbc.Row(\n",
    "                    [\n",
    "                        dbc.Col(\n",
    "                            dcc.Dropdown(\n",
    "                                id='customer-type-dropdown1',\n",
    "                                options=make_options_customer_type(coupon_sales['고객분류'].unique()),\n",
    "                                value=coupon_sales['고객분류'].unique()[0],  # 초기값 설정\n",
    "                                clearable=False,\n",
    "                            ),\n",
    "                            width=3,\n",
    "                        ),\n",
    "                    ],\n",
    "                    style={\"marginTop\": 30},\n",
    "                ),\n",
    "                dbc.Row(\n",
    "                    [\n",
    "                        dbc.Col(\n",
    "                            dcc.Tabs(\n",
    "                                id=\"tabs\",\n",
    "                                children=[\n",
    "                                    dcc.Tab(\n",
    "                                        label=\"Treemap\",\n",
    "                                        children=[\n",
    "                                            dcc.Loading(\n",
    "                                                id=\"loading-treemap\",\n",
    "                                                children=[dcc.Graph(id=\"bank-treemap\")],\n",
    "                                                type=\"default\",\n",
    "                                            )\n",
    "                                        ],\n",
    "                                    ),\n",
    "                                    dcc.Tab(\n",
    "                                        label=\"Bar plot\",\n",
    "                                        children=[\n",
    "                                            dcc.Loading(\n",
    "                                                id=\"loading-bar-plot\",\n",
    "                                                children=[\n",
    "                                                    dcc.Graph(id=\"bar-chart\")\n",
    "                                                ],\n",
    "                                                type=\"default\",\n",
    "                                            )\n",
    "                                        ],\n",
    "                                    ),\n",
    "                                ],\n",
    "                            ),\n",
    "                            width=12,\n",
    "                        ),\n",
    "                    ],\n",
    "                    style={\"marginTop\": 30},\n",
    "                ),\n",
    "            ]\n",
    "        ),\n",
    "    ]\n",
    ")\n"
   ]
  },
  {
   "cell_type": "code",
   "execution_count": 110,
   "id": "e58dd976",
   "metadata": {},
   "outputs": [],
   "source": [
    "# 전체 레이아웃 구성 변경\n",
    "BODY = dbc.Container(\n",
    "    [\n",
    "        dbc.Row(\n",
    "            [   \n",
    "                dbc.Col(CLUSTER1, align=\"center\"),\n",
    "                dbc.Col(CLUSTER2, align=\"center\")\n",
    "            ],\n",
    "            \n",
    "            style={\"marginTop\": 30}\n",
    "        ),\n",
    "        dbc.Row(\n",
    "        [\n",
    "            dbc.Col(TOP_BIGRAM_COMPS, align=\"center\"),  \n",
    "        ]\n",
    "        ),\n",
    "        dbc.Row([dbc.Col(CLUSTER3),], style={\"marginTop\": 30}),\n",
    "        dbc.Row(\n",
    "            [\n",
    "                dbc.Col(LEFT_COLUMN, md=4, align=\"center\"),\n",
    "                dbc.Col(dbc.Card(BAR_PLOT), md=8),\n",
    "            ],\n",
    "            style={\"marginTop\": 30},\n",
    "        ),\n",
    "        dbc.Row(\n",
    "            [\n",
    "                dbc.Col(\n",
    "                    [\n",
    "                        TREEMAP\n",
    "                    ]\n",
    "                ),\n",
    "            ],\n",
    "            style={\"marginTop\": 30},\n",
    "        ),\n",
    "        \n",
    "        \n",
    "        \n",
    "    ],\n",
    "    className=\"mt-12\",\n",
    ")"
   ]
  },
  {
   "cell_type": "code",
   "execution_count": 111,
   "id": "08788204",
   "metadata": {
    "scrolled": true
   },
   "outputs": [
    {
     "name": "stderr",
     "output_type": "stream",
     "text": [
      "[2024-06-06 14:31:42,170] ERROR in app: Exception on /_alive_a535f27a-9f9e-4341-804d-9ed8a02c8f63 [GET]\n",
      "Traceback (most recent call last):\n",
      "  File \"/Users/yang/Library/Python/3.9/lib/python/site-packages/flask/app.py\", line 1473, in wsgi_app\n",
      "    response = self.full_dispatch_request()\n",
      "  File \"/Users/yang/Library/Python/3.9/lib/python/site-packages/flask/app.py\", line 882, in full_dispatch_request\n",
      "    rv = self.handle_user_exception(e)\n",
      "  File \"/Users/yang/Library/Python/3.9/lib/python/site-packages/flask/app.py\", line 878, in full_dispatch_request\n",
      "    rv = self.preprocess_request()\n",
      "  File \"/Users/yang/Library/Python/3.9/lib/python/site-packages/flask/app.py\", line 1253, in preprocess_request\n",
      "    rv = self.ensure_sync(before_func)()\n",
      "  File \"/Users/yang/Library/Python/3.9/lib/python/site-packages/dash/dash.py\", line 1412, in _setup_server\n",
      "    _validate.validate_layout(self.layout, self._layout_value())\n",
      "  File \"/Users/yang/Library/Python/3.9/lib/python/site-packages/dash/_validate.py\", line 449, in validate_layout\n",
      "    _validate(layout_value)\n",
      "  File \"/Users/yang/Library/Python/3.9/lib/python/site-packages/dash/_validate.py\", line 438, in _validate\n",
      "    _validate_id(component)\n",
      "  File \"/Users/yang/Library/Python/3.9/lib/python/site-packages/dash/_validate.py\", line 428, in _validate_id\n",
      "    raise exceptions.DuplicateIdError(\n",
      "dash.exceptions.DuplicateIdError: Duplicate component id found in the initial layout: `loading-cluster-comps`\n"
     ]
    },
    {
     "data": {
      "text/html": [
       "\n",
       "        <iframe\n",
       "            width=\"100%\"\n",
       "            height=\"650\"\n",
       "            src=\"http://127.0.0.1:8051/\"\n",
       "            frameborder=\"0\"\n",
       "            allowfullscreen\n",
       "            \n",
       "        ></iframe>\n",
       "        "
      ],
      "text/plain": [
       "<IPython.lib.display.IFrame at 0x289386730>"
      ]
     },
     "metadata": {},
     "output_type": "display_data"
    },
    {
     "name": "stderr",
     "output_type": "stream",
     "text": [
      "/var/folders/dg/zt1811sd5_98wwf93yr3zwwr0000gn/T/ipykernel_61172/2107222283.py:130: SettingWithCopyWarning:\n",
      "\n",
      "\n",
      "A value is trying to be set on a copy of a slice from a DataFrame\n",
      "\n",
      "See the caveats in the documentation: https://pandas.pydata.org/pandas-docs/stable/user_guide/indexing.html#returning-a-view-versus-a-copy\n",
      "\n"
     ]
    }
   ],
   "source": [
    "app = dash.Dash(__name__, external_stylesheets=[dbc.themes.BOOTSTRAP])\n",
    "server = app.server  # for Heroku deployment\n",
    "\n",
    "app.layout = html.Div(children=[NAVBAR, BODY])\n",
    "\n",
    "\n",
    "@app.callback(\n",
    "    Output(\"bigrams-comps\", \"figure\"),\n",
    "    [Input(\"bigrams-comp_1\", \"value\"), Input(\"bigrams-comp_2\", \"value\")],\n",
    ")\n",
    "\n",
    "def comp_bigram_comparisons(comp2, comp1):\n",
    "    temp_df = joined_df.groupby(['월', '고객분류'])[comp1].sum().reset_index()\n",
    "    temp_df = temp_df.loc[temp_df.고객분류 == comp2, ]\n",
    "\n",
    "    # 숫자형 월을 문자형으로 변경\n",
    "    temp_df['월'] = temp_df['월'].apply(lambda x: str(x) + '월')\n",
    "\n",
    "    fig = px.bar(\n",
    "        temp_df,\n",
    "        title=\"Comparison: \" + comp2 + \" | \" + comp1,\n",
    "        x=\"월\",\n",
    "        y=\"매출\",\n",
    "        color=\"월\",\n",
    "        template=\"plotly_white\",\n",
    "        color_discrete_sequence=px.colors.qualitative.Plotly,  # 도넛 차트와 같은 색상 팔레트 적용\n",
    "        labels={\"월\": \"Month:\", \"매출\": \"Revenue\"},\n",
    "        hover_data=[],\n",
    "    )\n",
    "    fig.update_layout(legend=dict(x=0.1, y=1.1), legend_orientation=\"h\")\n",
    "    fig.update_yaxes(title=\"\", showticklabels=False)\n",
    "    fig.data[0][\"hovertemplate\"] = fig.data[0][\"hovertemplate\"][:-14]\n",
    "    return fig\n",
    "\n",
    "\n",
    "\n",
    "\n",
    "\n",
    "\n",
    "\n",
    "@app.callback(\n",
    "    [Output(\"customer-cluster-graph\", \"figure\"),\n",
    "     Output(\"monetary-cluster-graph\", \"figure\")],\n",
    "    [Input(\"customer-type-dropdown\", \"value\")]\n",
    ")\n",
    "def update_graphs(customer_type):\n",
    "    fig_customers = px.line(\n",
    "        monthly_clustered_customers,\n",
    "        x=\"month\",\n",
    "        y=customer_type,\n",
    "        title=f\"{customer_type} 고객의 월별 거래량\",\n",
    "        labels={\"month\": \"월\", customer_type: \"거래량\"},\n",
    "    )\n",
    "    fig_customers.update_layout(\n",
    "    plot_bgcolor='rgba(0,0,0,0)',  \n",
    "    paper_bgcolor='rgba(0,0,0,0)', \n",
    "    font=dict(color='black'),  \n",
    "    title_font_color=\"navy\",  \n",
    "    xaxis=dict(linecolor='gray'), \n",
    "    yaxis=dict(linecolor='gray', visible=True),\n",
    "    legend=dict(bgcolor='rgba(0,0,0,0)', bordercolor=\"gray\", borderwidth=1),  # 범례 배경색을 투명으로 설정하고 테두리 색상과 너비 설정\n",
    "    )\n",
    "    \n",
    "    \n",
    "    fig_monetary = px.line(\n",
    "        monthly_clustered_monetary,\n",
    "        x=\"month\",\n",
    "        y=customer_type,\n",
    "        title=f\"{customer_type} 고객의 월별 거래금액\",\n",
    "        labels={\"month\": \"월\", customer_type: \"거래금액\"},\n",
    "    )\n",
    "    \n",
    "    fig_monetary.update_layout(\n",
    "    plot_bgcolor='rgba(0,0,0,0)',  \n",
    "    paper_bgcolor='rgba(0,0,0,0)', \n",
    "    font=dict(color='black'),  \n",
    "    title_font_color=\"navy\",  \n",
    "    xaxis=dict(linecolor='gray'), \n",
    "    yaxis=dict(linecolor='gray', visible=True),\n",
    "    legend=dict(bgcolor='rgba(0,0,0,0)', bordercolor=\"gray\", borderwidth=1),  # 범례 배경색을 투명으로 설정하고 테두리 색상과 너비 설정\n",
    "    )\n",
    "    \n",
    "    return fig_customers, fig_monetary\n",
    "\n",
    "\n",
    "\n",
    "\n",
    "\n",
    "\n",
    "\n",
    "@app.callback(\n",
    "    Output('bar-plot', 'figure'),\n",
    "    [\n",
    "        Input('month-selection-slider', 'value'),\n",
    "        Input('coupon-drop', 'value')\n",
    "    ]\n",
    ")\n",
    "\n",
    "def update_bar_plot(selected_month, selected_coupon):\n",
    "    filtered_df = df[(df['월'] == selected_month) & (df['쿠폰상태'] == selected_coupon)]\n",
    "    \n",
    "    if filtered_df.empty:\n",
    "        fig = px.bar(title=\"No data available\", labels={\"제품카테고리\": \"제품 카테고리\", \"매출\": \"매출액\"})\n",
    "    else:\n",
    "        fig = px.bar(filtered_df, x='제품카테고리', y='매출', color='제품카테고리', title=\"제품별 매출액\", labels={\"제품카테고리\": \"제품 카테고리\", \"매출\": \"매출액\"})\n",
    "\n",
    "    # 그래프 꾸미기\n",
    "    fig.update_layout(\n",
    "        plot_bgcolor='rgba(0,0,0,0)',  # 배경색을 투명으로 설정\n",
    "        paper_bgcolor='rgba(0,0,0,0)',  # 그래프 영역의 배경색을 투명으로 설정\n",
    "        font=dict(color='black'),  # 폰트 색상을 검은색으로 설정\n",
    "        title_font_color=\"navy\",  # 제목 색상을 navy로 설정\n",
    "        xaxis=dict(linecolor='gray'),  # x축 라인 색상 설정\n",
    "        yaxis=dict(linecolor='gray'),  # y축 라인 색상 설정\n",
    "        legend=dict(bgcolor='rgba(0,0,0,0)', bordercolor=\"gray\", borderwidth=1),  # 범례 배경색을 투명으로 설정하고 테두리 색상과 너비 설정\n",
    "    )\n",
    "\n",
    "    return fig\n",
    "\n",
    "\n",
    "\n",
    "\n",
    "# 콜백 함수: 선택한 고객 분류에 따른 바 차트 업데이트\n",
    "@app.callback(\n",
    "    Output('bar-chart', 'figure'),\n",
    "    [Input('customer-type-dropdown1', 'value')]\n",
    ")\n",
    "def update_bar_chart(customer_type):\n",
    "    filtered_df = coupon_sales[coupon_sales['고객분류'] == customer_type]\n",
    "    filtered_df.drop(columns=['쿠폰코드'], inplace=True)\n",
    "    bar_fig = px.bar(filtered_df, x='제품카테고리', y='매출',\n",
    "                     title=f\"{customer_type} 고객의 제품카테고리별 매출액\",\n",
    "                     color='제품카테고리',\n",
    "                     color_continuous_scale=px.colors.sequential.Reds)\n",
    "    bar_fig.update_layout(\n",
    "        plot_bgcolor='rgba(0,0,0,0)',\n",
    "        paper_bgcolor='rgba(0,0,0,0)',\n",
    "        font=dict(color='black'),\n",
    "        title_font_color=\"navy\",\n",
    "        xaxis=dict(linecolor='gray', title_font=dict(size=14)),\n",
    "        yaxis=dict(linecolor='gray', title_font=dict(size=14)),\n",
    "        legend=dict(bgcolor='rgba(0,0,0,0)', bordercolor=\"gray\", borderwidth=1)\n",
    "    )\n",
    "    return bar_fig\n",
    "\n",
    "\n",
    "# 콜백 함수: 선택한 고객 분류에 따른 트리맵 업데이트\n",
    "@app.callback(\n",
    "    Output('bank-treemap', 'figure'),\n",
    "    [Input('customer-type-dropdown1', 'value')]\n",
    ")\n",
    "def update_treemap(customer_type):\n",
    "    filtered_df = coupon_sales[coupon_sales['고객분류'] == customer_type]\n",
    "    fig = px.treemap(filtered_df, path=['쿠폰코드', '제품카테고리'], values='매출', title=f\"{customer_type} 고객의 쿠폰별 매출액\",\n",
    "                     color='매출', color_continuous_scale=px.colors.sequential.Reds)\n",
    "    fig.update_layout(\n",
    "        margin=dict(t=50, l=25, r=25, b=25),\n",
    "        plot_bgcolor='rgba(0,0,0,0)',\n",
    "        paper_bgcolor='rgba(0,0,0,0)',\n",
    "        font=dict(color='black'),\n",
    "        title_font_color=\"navy\",\n",
    "        legend=dict(bgcolor='rgba(0,0,0,0)', bordercolor=\"gray\", borderwidth=1)\n",
    "    )\n",
    "    return fig\n",
    "\n",
    "\n",
    "\n",
    "\n",
    "\n",
    "\n",
    "\n",
    "\n",
    "\n",
    "\n",
    "\n",
    "\n",
    "\n",
    "\n",
    "\n",
    "if __name__ == \"__main__\":\n",
    "    app.run_server(port=8051)\n"
   ]
  },
  {
   "cell_type": "code",
   "execution_count": null,
   "id": "9b67ecec",
   "metadata": {},
   "outputs": [],
   "source": []
  },
  {
   "cell_type": "code",
   "execution_count": null,
   "id": "2b013f41",
   "metadata": {},
   "outputs": [],
   "source": []
  }
 ],
 "metadata": {
  "kernelspec": {
   "display_name": "Python 3 (ipykernel)",
   "language": "python",
   "name": "python3"
  },
  "language_info": {
   "codemirror_mode": {
    "name": "ipython",
    "version": 3
   },
   "file_extension": ".py",
   "mimetype": "text/x-python",
   "name": "python",
   "nbconvert_exporter": "python",
   "pygments_lexer": "ipython3",
   "version": "3.9.6"
  }
 },
 "nbformat": 4,
 "nbformat_minor": 5
}
